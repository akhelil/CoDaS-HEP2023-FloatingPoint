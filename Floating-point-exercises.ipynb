{
 "cells": [
  {
   "cell_type": "markdown",
   "id": "52c190fe",
   "metadata": {},
   "source": [
    "### Machine limits for integer and floating-point types\n",
    "Get the machine limit for <i>np.float32</i>, <i>np.float64</i>, and <i>np.double</i> using <i>np.iinfo()</i>."
   ]
  },
  {
   "cell_type": "code",
   "execution_count": null,
   "id": "016c55a1",
   "metadata": {},
   "outputs": [],
   "source": [
    "import numpy as np\n",
    "np.iinfo(np.int32)"
   ]
  },
  {
   "cell_type": "code",
   "execution_count": null,
   "id": "808e17c4",
   "metadata": {},
   "outputs": [],
   "source": [
    "np.iinfo(np.int32).max"
   ]
  },
  {
   "cell_type": "code",
   "execution_count": null,
   "id": "e5dfa20f",
   "metadata": {},
   "outputs": [],
   "source": [
    "np.iinfo(int)"
   ]
  },
  {
   "cell_type": "code",
   "execution_count": null,
   "id": "45648414",
   "metadata": {},
   "outputs": [],
   "source": [
    "np.finfo(np.float32)"
   ]
  },
  {
   "cell_type": "code",
   "execution_count": null,
   "id": "229dc5e6",
   "metadata": {},
   "outputs": [],
   "source": [
    "np.finfo(np.float32).eps"
   ]
  },
  {
   "cell_type": "code",
   "execution_count": null,
   "id": "6a7d301c",
   "metadata": {},
   "outputs": [],
   "source": [
    "np.finfo(np.float64)"
   ]
  },
  {
   "cell_type": "code",
   "execution_count": null,
   "id": "e4feb961",
   "metadata": {},
   "outputs": [],
   "source": [
    "np.finfo(np.double)"
   ]
  },
  {
   "cell_type": "markdown",
   "id": "8637142a",
   "metadata": {},
   "source": [
    "### Inexactness\n",
    "Are the following expresions <i>True</i>?"
   ]
  },
  {
   "cell_type": "code",
   "execution_count": null,
   "id": "4e9d4dc7",
   "metadata": {},
   "outputs": [],
   "source": [
    "0.1 + 0.1 + 0.1 == 0.3"
   ]
  },
  {
   "cell_type": "code",
   "execution_count": null,
   "id": "a4c4fb9c",
   "metadata": {},
   "outputs": [],
   "source": [
    "x1 = 0.1\n",
    "x2 = 0.10000000000000001\n",
    "x3 = 0.1000000000000000055511151231257827021181583404541015625"
   ]
  },
  {
   "cell_type": "code",
   "execution_count": null,
   "id": "29d9885a",
   "metadata": {},
   "outputs": [],
   "source": [
    "eval(repr(x1)) == x1"
   ]
  },
  {
   "cell_type": "code",
   "execution_count": null,
   "id": "aecb08ca",
   "metadata": {},
   "outputs": [],
   "source": [
    "eval(repr(x1)) == x2"
   ]
  },
  {
   "cell_type": "code",
   "execution_count": null,
   "id": "eccb0de8",
   "metadata": {},
   "outputs": [],
   "source": [
    "eval(repr(x1)) == x3"
   ]
  },
  {
   "cell_type": "markdown",
   "id": "6e5500e3",
   "metadata": {},
   "source": [
    "### Holes in value range\n",
    "What is the result of the following subtraction? Is it 0.0?"
   ]
  },
  {
   "cell_type": "code",
   "execution_count": null,
   "id": "e77a591f",
   "metadata": {},
   "outputs": [],
   "source": [
    "a = 1.0\n",
    "b = 0.1\n",
    "c = 1.1\n",
    "c - a - b"
   ]
  },
  {
   "cell_type": "markdown",
   "id": "73a2f46b",
   "metadata": {},
   "source": [
    "### Conversions"
   ]
  },
  {
   "cell_type": "code",
   "execution_count": null,
   "id": "87e022fa",
   "metadata": {},
   "outputs": [],
   "source": [
    "import numpy as np\n",
    "np.__version__"
   ]
  },
  {
   "cell_type": "markdown",
   "id": "b0393d8a",
   "metadata": {},
   "source": [
    "Conversions to an integer can reveal the inaccuracies in a floating-point number. The closest *single-precision* floating-point number to 20.23 is slightly less than 20.23. When it is multiplied by a hundred, the result is slightly less than 2023.0. Note, there is no rounding in converting 'y' to an integer 'i', the number is truncated:"
   ]
  },
  {
   "cell_type": "code",
   "execution_count": null,
   "id": "2a31ce7f",
   "metadata": {},
   "outputs": [],
   "source": [
    "x = np.float32(20.23)\n",
    "y = x * 100.\n",
    "i = int(y)\n",
    "print(i, y)"
   ]
  },
  {
   "cell_type": "code",
   "execution_count": null,
   "id": "65b41c5d",
   "metadata": {},
   "outputs": [],
   "source": [
    "x = np.float64(20.23)\n",
    "y = x * 100.\n",
    "i = int(y)\n",
    "print(i, y)"
   ]
  },
  {
   "cell_type": "markdown",
   "id": "b703e949",
   "metadata": {},
   "source": [
    "Assigning a single-precision number to a double-precision number doesn't increase the number of significant digits:"
   ]
  },
  {
   "cell_type": "code",
   "execution_count": null,
   "id": "b2ac0a4a",
   "metadata": {},
   "outputs": [],
   "source": [
    "x = np.float32(1.66661)\n",
    "y = np.float64(x)\n",
    "print(y)"
   ]
  },
  {
   "cell_type": "markdown",
   "id": "55598c9e",
   "metadata": {},
   "source": [
    "Why there are simingly random <i>00025177002</i> numbers and not <i>00000000000</i>?"
   ]
  },
  {
   "cell_type": "markdown",
   "id": "61d3e4e1",
   "metadata": {},
   "source": [
    "The floating-point padding with zeros is done in the binary representation:\n",
    "1.10101010101001101111010000000000000000000000000000000000010101..."
   ]
  },
  {
   "cell_type": "markdown",
   "id": "35b2e1fa",
   "metadata": {},
   "source": [
    "### Rounding"
   ]
  },
  {
   "cell_type": "code",
   "execution_count": null,
   "id": "6f4faad3",
   "metadata": {},
   "outputs": [],
   "source": [
    "round(256.49999) == 256"
   ]
  },
  {
   "cell_type": "code",
   "execution_count": null,
   "id": "1afa2a92",
   "metadata": {},
   "outputs": [],
   "source": [
    "-1.225 * 100"
   ]
  },
  {
   "cell_type": "markdown",
   "id": "f135b21e",
   "metadata": {},
   "source": [
    "### Decimal fixed point and floating-point arithmetic\n",
    "https://docs.python.org/3/library/decimal.html"
   ]
  },
  {
   "cell_type": "code",
   "execution_count": null,
   "id": "1b279f5b",
   "metadata": {},
   "outputs": [],
   "source": [
    "from decimal import *\n",
    "getcontext()"
   ]
  },
  {
   "cell_type": "code",
   "execution_count": null,
   "id": "077d2ab3",
   "metadata": {},
   "outputs": [],
   "source": [
    "getcontext().prec = 6"
   ]
  },
  {
   "cell_type": "code",
   "execution_count": null,
   "id": "5c3faf3b",
   "metadata": {},
   "outputs": [],
   "source": [
    "Decimal(0.1) + Decimal(0.1) + Decimal(0.1)"
   ]
  },
  {
   "cell_type": "markdown",
   "id": "1db09ba2",
   "metadata": {},
   "source": [
    "### Accuracy of floating-point arithmetic\n",
    "Examples from Donald E. Knuth The Art of Computer Programming, volume 2 / Seminumerical Algorithms, Section 4.2.2"
   ]
  },
  {
   "cell_type": "code",
   "execution_count": null,
   "id": "44f3e7a7",
   "metadata": {},
   "outputs": [],
   "source": [
    "from decimal import Decimal, getcontext\n",
    "getcontext().prec = 8\n",
    "\n",
    "u, v, w = Decimal(11111113), Decimal(-11111111), Decimal('7.51111111')\n",
    "(u + v) + w"
   ]
  },
  {
   "cell_type": "code",
   "execution_count": null,
   "id": "0686be8c",
   "metadata": {},
   "outputs": [],
   "source": [
    "u + (v + w)"
   ]
  },
  {
   "cell_type": "code",
   "execution_count": null,
   "id": "2e04052b",
   "metadata": {},
   "outputs": [],
   "source": [
    "u, v, w = Decimal(20000), Decimal(-6), Decimal('6.0000003')\n",
    "(u*v) + (u*w)"
   ]
  },
  {
   "cell_type": "code",
   "execution_count": null,
   "id": "35a25d24",
   "metadata": {},
   "outputs": [],
   "source": [
    "u * (v+w)"
   ]
  },
  {
   "cell_type": "code",
   "execution_count": null,
   "id": "42f5ca0c",
   "metadata": {},
   "outputs": [],
   "source": [
    "u, v, w = Decimal(8.0000001), Decimal(1.2500008), Decimal(8.0000008)\n",
    "(u * v) * w"
   ]
  },
  {
   "cell_type": "code",
   "execution_count": null,
   "id": "59c729d2",
   "metadata": {},
   "outputs": [],
   "source": [
    "u * (v * w)"
   ]
  },
  {
   "cell_type": "markdown",
   "id": "8196099e",
   "metadata": {},
   "source": [
    "### Summing many numbers"
   ]
  },
  {
   "cell_type": "code",
   "execution_count": null,
   "id": "08b0cf63",
   "metadata": {},
   "outputs": [],
   "source": [
    "import numpy as np\n",
    "\n",
    "def summ():\n",
    "    tenth = np.float32(0.1)\n",
    "    count = np.float32(60*60*100*10)\n",
    "    print(f\"{count} {count*0.1}\")\n",
    "    sum = np.float32(0)\n",
    "    n = np.int64(0)\n",
    "    while n < 1000000:\n",
    "        sum += tenth\n",
    "        n += 1\n",
    "        if n < 21 or n%36000 == 0:\n",
    "            print(f\"step {n} expected {0.1*n} solution {sum} diff {np.abs(0.1*n - sum)}\")\n",
    "\n",
    "summ()"
   ]
  },
  {
   "cell_type": "markdown",
   "id": "dfa80196",
   "metadata": {},
   "source": [
    "### Kahan summation algorithm\n",
    "https://en.wikipedia.org/wiki/Kahan_summation_algorithm"
   ]
  },
  {
   "cell_type": "code",
   "execution_count": null,
   "id": "3a2fc892",
   "metadata": {},
   "outputs": [],
   "source": [
    "import numpy as np\n",
    "\n",
    "def kahan_summ():\n",
    "    tenth = np.float32(0.1)\n",
    "    count = np.float32(60*60*100*10)\n",
    "    print(f\"{count} {count*0.1}\")\n",
    "    sum = np.float32(0)\n",
    "    n = np.int64(0)\n",
    "    c = np.float32(0)\n",
    "    while n < 1000000:\n",
    "        y = tenth - c\n",
    "        x = sum + y\n",
    "        c = (x - sum) - y\n",
    "        sum = x\n",
    "        n += 1\n",
    "        if n < 21 or n%36000 == 0:\n",
    "            print(f\"step {n} expected {0.1*n} solution {sum} diff {np.abs(0.1*n - sum)}\")\n",
    "\n",
    "kahan_summ()"
   ]
  },
  {
   "cell_type": "markdown",
   "id": "736539a5",
   "metadata": {},
   "source": [
    "### Plot Example"
   ]
  },
  {
   "cell_type": "code",
   "execution_count": null,
   "id": "c5e418fc",
   "metadata": {},
   "outputs": [],
   "source": [
    "import numpy as np\n",
    "\n",
    "def plot_summ(k):\n",
    "    s = np.float32(0)\n",
    "    for i in range(k - 1):\n",
    "        s += np.float32(0.1)\n",
    "    return abs(k/10 - s)\n",
    "\n",
    "for i in range(100000):\n",
    "    if i%3600 == 0:\n",
    "        print(plot_summ(i))"
   ]
  },
  {
   "cell_type": "markdown",
   "id": "b7d71b67",
   "metadata": {},
   "source": [
    "### Floating-Point Numbers Don't-s:\n",
    "#### 1. Test rounded floating-point numbers for equality "
   ]
  },
  {
   "cell_type": "markdown",
   "id": "524b0e47",
   "metadata": {},
   "source": [
    "Example: this is an endless loop because x never becomes exactly 1:"
   ]
  },
  {
   "cell_type": "code",
   "execution_count": null,
   "id": "945b8431",
   "metadata": {},
   "outputs": [],
   "source": [
    "def endless_loop():\n",
    "    x = 0.1\n",
    "    while x != 1.0:\n",
    "        x += 0.1\n",
    "        print(x)"
   ]
  },
  {
   "cell_type": "markdown",
   "id": "0e3a6014",
   "metadata": {},
   "source": [
    "#### 2. Add two floating-point numbers of very different orders of magnitude"
   ]
  },
  {
   "cell_type": "markdown",
   "id": "9f3fc889",
   "metadata": {},
   "source": [
    "The following function calculates the n-th [harmonic number](https://en.wikipedia.org/wiki/Harmonic_number) in two ways. What is the difference between the two loops? One loop runs through numbers 1 up to n, adding reciprocals. Second loop runs from n down to 1 and summs up the recipricals. Does the order matter?"
   ]
  },
  {
   "cell_type": "code",
   "execution_count": null,
   "id": "62158c05",
   "metadata": {},
   "outputs": [],
   "source": [
    "import numpy as np\n",
    "\n",
    "def harmonic_number(n):\n",
    "    # forward sum\n",
    "    f_sum = np.float32(0.0)\n",
    "    i = np.int32(1)\n",
    "    while i <= n:\n",
    "        f_sum += np.float32(1.0/i)\n",
    "        i += 1\n",
    "    \n",
    "    # backward sum\n",
    "    b_sum = np.float32(0.0)\n",
    "    i = np.int32(n)\n",
    "    while i >= 1:\n",
    "        b_sum += np.float32(1.0/i)\n",
    "        i -= 1\n",
    "\n",
    "    print(\"Forward sum\", f_sum)\n",
    "    print(\"Backward sum\", b_sum)"
   ]
  },
  {
   "cell_type": "code",
   "execution_count": null,
   "id": "0cba7a52",
   "metadata": {},
   "outputs": [],
   "source": [
    "harmonic_number(10000000)"
   ]
  },
  {
   "cell_type": "code",
   "execution_count": null,
   "id": "b4272b39",
   "metadata": {},
   "outputs": [],
   "source": [
    "harmonic_number(100000000)"
   ]
  },
  {
   "cell_type": "markdown",
   "id": "0f528939",
   "metadata": {},
   "source": [
    "#### 3. Subtract two floating-point numbers with very similar value"
   ]
  },
  {
   "cell_type": "markdown",
   "id": "573cf52e",
   "metadata": {},
   "source": [
    "The most significant digits cancel each other in subtracting two numbers that are almost equal. If, on the other hand, the remaining less significant digits  already carry some errors fom previous computations, the subtraction hugely amplifies these errors: the cancellation promotes the previously less significant digits to much more significant digis in the result. "
   ]
  },
  {
   "cell_type": "code",
   "execution_count": null,
   "id": "487ebe75",
   "metadata": {},
   "outputs": [],
   "source": [
    "import numpy as np\n",
    "\n",
    "def func(x):\n",
    "    t = np.exp(-np.pi * x)\n",
    "    return 1/t*(1-np.sqrt(1-t**2))"
   ]
  },
  {
   "cell_type": "markdown",
   "id": "f3ac510d",
   "metadata": {},
   "source": [
    "### Cancellation"
   ]
  },
  {
   "cell_type": "markdown",
   "id": "8dddbaad",
   "metadata": {},
   "source": [
    "Approximaion of Pi"
   ]
  },
  {
   "cell_type": "code",
   "execution_count": null,
   "id": "75a1e78d",
   "metadata": {},
   "outputs": [],
   "source": [
    "import numpy as np\n",
    "\n",
    "x = np.float32(3.141592653589793)\n",
    "y = np.float32(3.141592653585682)"
   ]
  },
  {
   "cell_type": "code",
   "execution_count": null,
   "id": "abe9b53b",
   "metadata": {},
   "outputs": [],
   "source": [
    "z = x - y\n",
    "z"
   ]
  },
  {
   "cell_type": "code",
   "execution_count": null,
   "id": "5e5fe3f4",
   "metadata": {},
   "outputs": [],
   "source": [
    "import numpy as np\n",
    "\n",
    "x = np.float64(3.141592653589793)\n",
    "y = np.float64(3.141592653585682)"
   ]
  },
  {
   "cell_type": "code",
   "execution_count": null,
   "id": "b0612bea",
   "metadata": {},
   "outputs": [],
   "source": [
    "z = x - y\n",
    "z"
   ]
  },
  {
   "cell_type": "markdown",
   "id": "25ec8ad3",
   "metadata": {},
   "source": [
    "Quadratic equations"
   ]
  },
  {
   "cell_type": "code",
   "execution_count": null,
   "id": "c2ea6c07",
   "metadata": {},
   "outputs": [],
   "source": [
    "a=np.float64(1.0)\n",
    "b=np.float64(1.786737589984535)\n",
    "c=np.float64(1.149782767465722e-8)"
   ]
  },
  {
   "cell_type": "code",
   "execution_count": null,
   "id": "5d0be7d4",
   "metadata": {},
   "outputs": [],
   "source": [
    "x_1 = (-b - np.sqrt(b**2 - 4*a*c))/(2*a)\n",
    "x_2 = (-b + np.sqrt(b**2 - 4*a*c))/(2*a)\n",
    "print(x_1, x_2)"
   ]
  },
  {
   "cell_type": "code",
   "execution_count": null,
   "id": "cf5e5374",
   "metadata": {
    "scrolled": true
   },
   "outputs": [],
   "source": [
    "x_1 = (-b - np.sign(b)*np.sqrt(b**2 - 4*a*c))/(2*a)\n",
    "x_2 = c/(a*x_1)\n",
    "print(x_1, x_2)"
   ]
  },
  {
   "cell_type": "markdown",
   "id": "8e077cb1",
   "metadata": {},
   "source": [
    "### The Sign Bit"
   ]
  },
  {
   "cell_type": "markdown",
   "id": "522c6cc6",
   "metadata": {},
   "source": [
    "IEEE 754-2019: Except that <b>squareRoot(-1)</b> shall be -0, every numeric <b>squareRoot</b> result shall have a positive sign."
   ]
  },
  {
   "cell_type": "code",
   "execution_count": null,
   "id": "d7e07b7a",
   "metadata": {},
   "outputs": [],
   "source": [
    "import math\n",
    "math.sqrt(-0.0)"
   ]
  },
  {
   "cell_type": "markdown",
   "id": "df416d65",
   "metadata": {},
   "source": [
    "### Solar System"
   ]
  },
  {
   "cell_type": "code",
   "execution_count": null,
   "id": "26ef86b9",
   "metadata": {},
   "outputs": [],
   "source": [
    "# solarsystem.py\n",
    "\n",
    "import itertools\n",
    "import math\n",
    "import turtle\n",
    "import numpy as np\n",
    "\n",
    "\n",
    "# Solar System Bodies\n",
    "class SolarSystemBody(turtle.Turtle):\n",
    "    min_display_size = 20\n",
    "    display_log_base = 1.1\n",
    "\n",
    "    def __init__(\n",
    "            self,\n",
    "            solar_system,\n",
    "            mass,\n",
    "            position=(0, 0),\n",
    "            velocity=(0, 0),\n",
    "    ):\n",
    "        super().__init__()\n",
    "        self.mass = mass\n",
    "        self.setposition(position)\n",
    "        self.velocity = velocity\n",
    "        self.display_size = max(\n",
    "            math.log(self.mass, self.display_log_base),\n",
    "            self.min_display_size,\n",
    "        )\n",
    "\n",
    "        self.penup()\n",
    "        self.hideturtle()\n",
    "\n",
    "        solar_system.add_body(self)\n",
    "\n",
    "    def draw(self):\n",
    "        self.clear()\n",
    "        self.dot(self.display_size)\n",
    "\n",
    "    def move(self):\n",
    "        self.setx(self.xcor() + self.velocity[0])\n",
    "        self.sety(self.ycor() + self.velocity[1])\n",
    "\n",
    "\n",
    "class Sun(SolarSystemBody):\n",
    "    def __init__(\n",
    "            self,\n",
    "            solar_system,\n",
    "            mass,\n",
    "            position=(0, 0),\n",
    "            velocity=(0, 0),\n",
    "    ):\n",
    "        super().__init__(solar_system, mass, position, velocity)\n",
    "        self.color(\"yellow\")\n",
    "\n",
    "\n",
    "\n",
    "class Planet(SolarSystemBody):\n",
    "    colours = itertools.cycle([\"red\", \"green\", \"blue\"])\n",
    "\n",
    "    def __init__(\n",
    "            self,\n",
    "            solar_system,\n",
    "            mass,\n",
    "            position=(0, 0),\n",
    "            velocity=(0, 0),\n",
    "    ):\n",
    "        super().__init__(solar_system, mass, position, velocity)\n",
    "        self.color(next(Planet.colours))\n",
    "\n",
    "\n",
    "# Solar System\n",
    "class SolarSystem:\n",
    "    def __init__(self, width, height):\n",
    "        self.solar_system = turtle.Screen()\n",
    "        self.solar_system.tracer(0)\n",
    "        self.solar_system.setup(width, height)\n",
    "        self.solar_system.bgcolor(\"black\")\n",
    "\n",
    "        self.bodies = []\n",
    "\n",
    "    def add_body(self, body):\n",
    "        self.bodies.append(body)\n",
    "\n",
    "    def remove_body(self, body):\n",
    "        self.bodies.remove(body)\n",
    "\n",
    "    def update_all(self):\n",
    "        for body in self.bodies:\n",
    "            body.move()\n",
    "            body.draw()\n",
    "        self.solar_system.update()\n",
    "        \n",
    "    @staticmethod\n",
    "    def accelerate_due_to_gravity(\n",
    "            first: SolarSystemBody,\n",
    "            second: SolarSystemBody,\n",
    "    ):\n",
    "        force = first.mass * second.mass / first.distance(second) ** 2\n",
    "        angle = first.towards(second)\n",
    "        reverse = 1\n",
    "        for body in first, second:\n",
    "            acceleration = force / body.mass\n",
    "            acc_x = acceleration * math.cos(math.radians(angle))\n",
    "            acc_y = acceleration * math.sin(math.radians(angle))\n",
    "            body.velocity = (\n",
    "                body.velocity[0] + (reverse * acc_x),\n",
    "                body.velocity[1] + (reverse * acc_y),\n",
    "            )\n",
    "            reverse = -1\n"
   ]
  },
  {
   "cell_type": "code",
   "execution_count": null,
   "id": "dfa303d1",
   "metadata": {},
   "outputs": [],
   "source": [
    "# simple_solar_system.py\n",
    "\n",
    "#from solarsystem import SolarSystem, Sun, Planet\n",
    "\n",
    "solar_system = SolarSystem(width=1400, height=900)\n",
    "\n",
    "sun = Sun(solar_system, mass=10_000)\n",
    "planet = Planet(\n",
    "    solar_system,\n",
    "    mass=1,\n",
    "    position=(-350, 0),\n",
    "    velocity=(0, 5),\n",
    ")\n",
    "\n",
    "while True:\n",
    "    solar_system.accelerate_due_to_gravity(sun, planet)\n",
    "    solar_system.update_all()\n",
    "    "
   ]
  },
  {
   "cell_type": "code",
   "execution_count": null,
   "id": "fe9b439d",
   "metadata": {},
   "outputs": [],
   "source": []
  }
 ],
 "metadata": {
  "kernelspec": {
   "display_name": "Python 3 (ipykernel)",
   "language": "python",
   "name": "python3"
  },
  "language_info": {
   "codemirror_mode": {
    "name": "ipython",
    "version": 3
   },
   "file_extension": ".py",
   "mimetype": "text/x-python",
   "name": "python",
   "nbconvert_exporter": "python",
   "pygments_lexer": "ipython3",
   "version": "3.11.0"
  }
 },
 "nbformat": 4,
 "nbformat_minor": 5
}
