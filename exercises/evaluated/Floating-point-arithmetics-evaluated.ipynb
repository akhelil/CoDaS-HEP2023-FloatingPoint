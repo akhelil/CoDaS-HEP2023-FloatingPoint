{
  "metadata": {
    "language_info": {
      "codemirror_mode": {
        "name": "python",
        "version": 3
      },
      "file_extension": ".py",
      "mimetype": "text/x-python",
      "name": "python",
      "nbconvert_exporter": "python",
      "pygments_lexer": "ipython3",
      "version": "3.8"
    },
    "kernelspec": {
      "name": "python",
      "display_name": "Python (Pyodide)",
      "language": "python"
    }
  },
  "nbformat_minor": 4,
  "nbformat": 4,
  "cells": [
    {
      "cell_type": "markdown",
      "source": "### Machine limits for integer and floating-point types\nGet the machine limit for <i>np.float32</i>, <i>np.float64</i>, and <i>np.double</i> using <i>np.iinfo()</i>.",
      "metadata": {}
    },
    {
      "cell_type": "code",
      "source": "import numpy as np\nnp.iinfo(np.int32)",
      "metadata": {
        "trusted": true
      },
      "execution_count": 1,
      "outputs": [
        {
          "execution_count": 1,
          "output_type": "execute_result",
          "data": {
            "text/plain": "iinfo(min=-2147483648, max=2147483647, dtype=int32)"
          },
          "metadata": {}
        }
      ]
    },
    {
      "cell_type": "code",
      "source": "np.iinfo(np.int32).max",
      "metadata": {
        "trusted": true
      },
      "execution_count": 2,
      "outputs": [
        {
          "execution_count": 2,
          "output_type": "execute_result",
          "data": {
            "text/plain": "2147483647"
          },
          "metadata": {}
        }
      ]
    },
    {
      "cell_type": "code",
      "source": "np.iinfo(int)",
      "metadata": {
        "trusted": true
      },
      "execution_count": 3,
      "outputs": [
        {
          "execution_count": 3,
          "output_type": "execute_result",
          "data": {
            "text/plain": "iinfo(min=-2147483648, max=2147483647, dtype=int32)"
          },
          "metadata": {}
        }
      ]
    },
    {
      "cell_type": "code",
      "source": "np.finfo(np.float32)",
      "metadata": {
        "trusted": true
      },
      "execution_count": 4,
      "outputs": [
        {
          "execution_count": 4,
          "output_type": "execute_result",
          "data": {
            "text/plain": "finfo(resolution=1e-06, min=-3.4028235e+38, max=3.4028235e+38, dtype=float32)"
          },
          "metadata": {}
        }
      ]
    },
    {
      "cell_type": "code",
      "source": "np.finfo(np.float32).eps",
      "metadata": {
        "trusted": true
      },
      "execution_count": 5,
      "outputs": [
        {
          "execution_count": 5,
          "output_type": "execute_result",
          "data": {
            "text/plain": "1.1920929e-07"
          },
          "metadata": {}
        }
      ]
    },
    {
      "cell_type": "code",
      "source": "np.finfo(np.float64)",
      "metadata": {
        "trusted": true
      },
      "execution_count": 6,
      "outputs": [
        {
          "execution_count": 6,
          "output_type": "execute_result",
          "data": {
            "text/plain": "finfo(resolution=1e-15, min=-1.7976931348623157e+308, max=1.7976931348623157e+308, dtype=float64)"
          },
          "metadata": {}
        }
      ]
    },
    {
      "cell_type": "code",
      "source": "np.finfo(np.double)",
      "metadata": {
        "trusted": true
      },
      "execution_count": 7,
      "outputs": [
        {
          "execution_count": 7,
          "output_type": "execute_result",
          "data": {
            "text/plain": "finfo(resolution=1e-15, min=-1.7976931348623157e+308, max=1.7976931348623157e+308, dtype=float64)"
          },
          "metadata": {}
        }
      ]
    },
    {
      "cell_type": "markdown",
      "source": "### Check subtraction of two floating-point numbers",
      "metadata": {}
    },
    {
      "cell_type": "code",
      "source": "import numpy as np\n\ndef diff(n1, n2, d):\n    print(\"First number:\", n1)\n    print(\"Second number:\", n2)\n    print(\"Their difference:\", d)\n    print(\"Computed difference - input difference = \", n1 - n2 - d)",
      "metadata": {
        "trusted": true
      },
      "execution_count": 8,
      "outputs": []
    },
    {
      "cell_type": "code",
      "source": "x1 = np.float32(1.5)\nx2 = np.float32(1.0)\nx_diff = np.float32(0.5)\n\ndiff(x1, x2, x_diff)",
      "metadata": {
        "trusted": true
      },
      "execution_count": 9,
      "outputs": [
        {
          "name": "stdout",
          "text": "First number: 1.5\nSecond number: 1.0\nTheir difference: 0.5\nComputed difference - input difference =  0.0\n",
          "output_type": "stream"
        }
      ]
    },
    {
      "cell_type": "code",
      "source": "x1 = np.float32(1.1)\nx2 = np.float32(1.0)\nx_diff = np.float32(0.1)\n\ndiff(x1, x2, x_diff)",
      "metadata": {
        "trusted": true
      },
      "execution_count": 10,
      "outputs": [
        {
          "name": "stdout",
          "text": "First number: 1.1\nSecond number: 1.0\nTheir difference: 0.1\nComputed difference - input difference =  2.2351742e-08\n",
          "output_type": "stream"
        }
      ]
    },
    {
      "cell_type": "markdown",
      "source": "### Inexactness\nWhich of the following expresions are <i>True</i>?",
      "metadata": {}
    },
    {
      "cell_type": "code",
      "source": "0.1 + 0.1 + 0.1 == 0.3",
      "metadata": {
        "trusted": true
      },
      "execution_count": 11,
      "outputs": [
        {
          "execution_count": 11,
          "output_type": "execute_result",
          "data": {
            "text/plain": "False"
          },
          "metadata": {}
        }
      ]
    },
    {
      "cell_type": "code",
      "source": "x1 = 0.1\nx2 = 0.10000000000000001\nx3 = 0.1000000000000000055511151231257827021181583404541015625",
      "metadata": {
        "trusted": true
      },
      "execution_count": 12,
      "outputs": []
    },
    {
      "cell_type": "code",
      "source": "eval(repr(x1)) == x1",
      "metadata": {
        "trusted": true
      },
      "execution_count": 13,
      "outputs": [
        {
          "execution_count": 13,
          "output_type": "execute_result",
          "data": {
            "text/plain": "True"
          },
          "metadata": {}
        }
      ]
    },
    {
      "cell_type": "code",
      "source": "eval(repr(x1)) == x2",
      "metadata": {
        "trusted": true
      },
      "execution_count": 14,
      "outputs": [
        {
          "execution_count": 14,
          "output_type": "execute_result",
          "data": {
            "text/plain": "True"
          },
          "metadata": {}
        }
      ]
    },
    {
      "cell_type": "code",
      "source": "eval(repr(x1)) == x3",
      "metadata": {
        "trusted": true
      },
      "execution_count": 15,
      "outputs": [
        {
          "execution_count": 15,
          "output_type": "execute_result",
          "data": {
            "text/plain": "True"
          },
          "metadata": {}
        }
      ]
    },
    {
      "cell_type": "markdown",
      "source": "### Holes in value range\nWhat is the result of the following subtraction? Is it 0.0?",
      "metadata": {}
    },
    {
      "cell_type": "code",
      "source": "a = 1.0\nb = 0.1\nc = 1.1\nc - a - b",
      "metadata": {
        "trusted": true
      },
      "execution_count": 16,
      "outputs": [
        {
          "execution_count": 16,
          "output_type": "execute_result",
          "data": {
            "text/plain": "8.326672684688674e-17"
          },
          "metadata": {}
        }
      ]
    },
    {
      "cell_type": "markdown",
      "source": "### Fractions\nThe [fractions](https://docs.python.org/3/library/fractions.html) module provides support for rational number arithmetic.\n\nReturn is a new Fraction instance with value numerator/denominator.",
      "metadata": {}
    },
    {
      "cell_type": "code",
      "source": "from fractions import Fraction\n\nFraction(1.1)",
      "metadata": {
        "trusted": true
      },
      "execution_count": 17,
      "outputs": [
        {
          "execution_count": 17,
          "output_type": "execute_result",
          "data": {
            "text/plain": "Fraction(2476979795053773, 2251799813685248)"
          },
          "metadata": {}
        }
      ]
    },
    {
      "cell_type": "markdown",
      "source": "Fraction(1.1) does not return Fraction(11, 10). To find rational approximations to a given floating-point number:",
      "metadata": {}
    },
    {
      "cell_type": "code",
      "source": "Fraction(1.1).limit_denominator()",
      "metadata": {
        "trusted": true
      },
      "execution_count": 18,
      "outputs": [
        {
          "execution_count": 18,
          "output_type": "execute_result",
          "data": {
            "text/plain": "Fraction(11, 10)"
          },
          "metadata": {}
        }
      ]
    },
    {
      "cell_type": "markdown",
      "source": "### Conversions\nConversions to an integer can reveal the inaccuracies in a floating-point number. The closest single-precision floating-point number to 20.23 is slightly less than 20.23. When it is multiplied by a hundred, the result is slightly less than 2023.0. Note, there is no rounding in converting 'y' to an integer 'i', the number is truncated:",
      "metadata": {}
    },
    {
      "cell_type": "code",
      "source": "x = np.float32(20.23)\ny = x * 100.\ni = int(y)\nprint(i, y)",
      "metadata": {
        "trusted": true
      },
      "execution_count": 19,
      "outputs": [
        {
          "name": "stdout",
          "text": "2022 2022.9999542236328\n",
          "output_type": "stream"
        }
      ]
    },
    {
      "cell_type": "code",
      "source": "x = np.float64(20.23)\ny = x * 100.\ni = int(y)\nprint(i, y)",
      "metadata": {
        "trusted": true
      },
      "execution_count": 20,
      "outputs": [
        {
          "name": "stdout",
          "text": "2023 2023.0\n",
          "output_type": "stream"
        }
      ]
    },
    {
      "cell_type": "markdown",
      "source": "Assigning a single-precision number to a double-precision number doesn't increase the number of significant digits:",
      "metadata": {}
    },
    {
      "cell_type": "code",
      "source": "x = np.float32(1.66661)\ny = np.float64(x)\nprint(y)",
      "metadata": {
        "trusted": true
      },
      "execution_count": 21,
      "outputs": [
        {
          "name": "stdout",
          "text": "1.6666100025177002\n",
          "output_type": "stream"
        }
      ]
    },
    {
      "cell_type": "markdown",
      "source": "Why there are simingly random <i>00025177002</i> numbers and not <i>00000000000</i>?",
      "metadata": {}
    },
    {
      "cell_type": "markdown",
      "source": "The floating-point padding with zeros is done in the binary representation: 1.10101010101001101111010000000000000000000000000000000000010101...",
      "metadata": {}
    },
    {
      "cell_type": "markdown",
      "source": "### Rounding",
      "metadata": {}
    },
    {
      "cell_type": "code",
      "source": "round(256.49999) == 256",
      "metadata": {
        "trusted": true
      },
      "execution_count": 22,
      "outputs": [
        {
          "execution_count": 22,
          "output_type": "execute_result",
          "data": {
            "text/plain": "True"
          },
          "metadata": {}
        }
      ]
    },
    {
      "cell_type": "code",
      "source": "-1.225 * 100",
      "metadata": {
        "trusted": true
      },
      "execution_count": 23,
      "outputs": [
        {
          "execution_count": 23,
          "output_type": "execute_result",
          "data": {
            "text/plain": "-122.50000000000001"
          },
          "metadata": {}
        }
      ]
    },
    {
      "cell_type": "markdown",
      "source": "### [Decimal](https://docs.python.org/3/library/decimal.html) fixed point and floating-point arithmetic",
      "metadata": {}
    },
    {
      "cell_type": "code",
      "source": "from decimal import *\ngetcontext()",
      "metadata": {
        "trusted": true
      },
      "execution_count": 24,
      "outputs": [
        {
          "execution_count": 24,
          "output_type": "execute_result",
          "data": {
            "text/plain": "Context(prec=28, rounding=ROUND_HALF_EVEN, Emin=-999999, Emax=999999, capitals=1, clamp=0, flags=[], traps=[InvalidOperation, DivisionByZero, Overflow])"
          },
          "metadata": {}
        }
      ]
    },
    {
      "cell_type": "code",
      "source": "Decimal('0.1') + Decimal('0.1') + Decimal('0.1') == Decimal('0.3')",
      "metadata": {
        "trusted": true
      },
      "execution_count": 25,
      "outputs": [
        {
          "execution_count": 25,
          "output_type": "execute_result",
          "data": {
            "text/plain": "True"
          },
          "metadata": {}
        }
      ]
    },
    {
      "cell_type": "markdown",
      "source": "### Accuracy of floating-point arithmetic\nExamples from Donald E. Knuth \"The Art of Computer Programming\", volume 2 / Seminumerical Algorithms, Section 4.2.2",
      "metadata": {}
    },
    {
      "cell_type": "code",
      "source": "u, v, w = 11111113, -11111111, 7.51111111\n(u + v) + w",
      "metadata": {
        "trusted": true
      },
      "execution_count": 26,
      "outputs": [
        {
          "execution_count": 26,
          "output_type": "execute_result",
          "data": {
            "text/plain": "9.51111111"
          },
          "metadata": {}
        }
      ]
    },
    {
      "cell_type": "code",
      "source": "u + (v + w)",
      "metadata": {
        "trusted": true
      },
      "execution_count": 27,
      "outputs": [
        {
          "execution_count": 27,
          "output_type": "execute_result",
          "data": {
            "text/plain": "9.511111110448837"
          },
          "metadata": {}
        }
      ]
    },
    {
      "cell_type": "code",
      "source": "u, v, w = 20000, -6, 6.0000003\n(u*v) + (u*w)",
      "metadata": {
        "trusted": true
      },
      "execution_count": 28,
      "outputs": [
        {
          "execution_count": 28,
          "output_type": "execute_result",
          "data": {
            "text/plain": "0.005999999993946403"
          },
          "metadata": {}
        }
      ]
    },
    {
      "cell_type": "code",
      "source": "u * (v+w)",
      "metadata": {
        "trusted": true
      },
      "execution_count": 29,
      "outputs": [
        {
          "execution_count": 29,
          "output_type": "execute_result",
          "data": {
            "text/plain": "0.005999999999062311"
          },
          "metadata": {}
        }
      ]
    },
    {
      "cell_type": "code",
      "source": "from decimal import Decimal, getcontext\ngetcontext().prec = 8\n\nu, v, w = Decimal(20000.), Decimal(-6.), Decimal('6.0000003')\n(u*v) + (u*w)",
      "metadata": {
        "trusted": true
      },
      "execution_count": 30,
      "outputs": [
        {
          "execution_count": 30,
          "output_type": "execute_result",
          "data": {
            "text/plain": "Decimal('0.01')"
          },
          "metadata": {}
        }
      ]
    },
    {
      "cell_type": "code",
      "source": "u * (v+w)",
      "metadata": {
        "trusted": true
      },
      "execution_count": 31,
      "outputs": [
        {
          "execution_count": 31,
          "output_type": "execute_result",
          "data": {
            "text/plain": "Decimal('0.0060000')"
          },
          "metadata": {}
        }
      ]
    },
    {
      "cell_type": "markdown",
      "source": "### Summing many numbers\nWhat are the potential arithmetic issues when summing many numbers?\n\n[Patriot Missile Defense:\nSoftware Problem Led to System Failure at Dhahran, Saudi Arabia](https://www.gao.gov/products/imtec-92-26)",
      "metadata": {}
    },
    {
      "cell_type": "code",
      "source": "import numpy as np\n\ndef summ():\n    tenth = np.float32(0.1)\n    count = np.float32(60*60*100*10)\n    print(f\"{count} {count*0.1}\")\n    sum = np.float32(0)\n    n = np.int64(0)\n    while n < 1000000:\n        sum += tenth\n        n += 1\n        if n < 21 or n%36000 == 0:\n            print(f\"step {n} expected {0.1*n} solution {sum} diff {np.abs(0.1*n - sum)}\")\n\nsumm()",
      "metadata": {
        "trusted": true
      },
      "execution_count": 32,
      "outputs": [
        {
          "name": "stdout",
          "text": "3600000.0 360000.0\nstep 1 expected 0.1 solution 0.10000000149011612 diff 1.4901161138336505e-09\nstep 2 expected 0.2 solution 0.20000000298023224 diff 2.980232227667301e-09\nstep 3 expected 0.30000000000000004 solution 0.30000001192092896 diff 1.1920928910669204e-08\nstep 4 expected 0.4 solution 0.4000000059604645 diff 5.960464455334602e-09\nstep 5 expected 0.5 solution 0.5 diff 0.0\nstep 6 expected 0.6000000000000001 solution 0.6000000238418579 diff 2.3841857821338408e-08\nstep 7 expected 0.7000000000000001 solution 0.7000000476837158 diff 4.768371575369912e-08\nstep 8 expected 0.8 solution 0.8000000715255737 diff 7.152557368605983e-08\nstep 9 expected 0.9 solution 0.9000000953674316 diff 9.536743161842054e-08\nstep 10 expected 1.0 solution 1.0000001192092896 diff 1.1920928955078125e-07\nstep 11 expected 1.1 solution 1.1000001430511475 diff 1.4305114737211966e-07\nstep 12 expected 1.2000000000000002 solution 1.2000001668930054 diff 1.6689300519345807e-07\nstep 13 expected 1.3 solution 1.3000001907348633 diff 1.9073486323684108e-07\nstep 14 expected 1.4000000000000001 solution 1.4000002145767212 diff 2.145767210581795e-07\nstep 15 expected 1.5 solution 1.500000238418579 diff 2.384185791015625e-07\nstep 16 expected 1.6 solution 1.600000262260437 diff 2.622604369229009e-07\nstep 17 expected 1.7000000000000002 solution 1.700000286102295 diff 2.861022947442393e-07\nstep 18 expected 1.8 solution 1.8000003099441528 diff 3.0994415278762233e-07\nstep 19 expected 1.9000000000000001 solution 1.9000003337860107 diff 3.3378601060896074e-07\nstep 20 expected 2.0 solution 2.000000238418579 diff 2.384185791015625e-07\nstep 36000 expected 3600.0 solution 3601.162353515625 diff 1.162353515625\nstep 72000 expected 7200.0 solution 7204.677734375 diff 4.677734375\nstep 108000 expected 10800.0 solution 10795.431640625 diff 4.568359375\nstep 144000 expected 14400.0 solution 14381.369140625 diff 18.630859375\nstep 180000 expected 18000.0 solution 17967.306640625 diff 32.693359375\nstep 216000 expected 21600.0 solution 21553.244140625 diff 46.755859375\nstep 252000 expected 25200.0 solution 25139.181640625 diff 60.818359375\nstep 288000 expected 28800.0 solution 28725.119140625 diff 74.880859375\nstep 324000 expected 32400.0 solution 32311.056640625 diff 88.943359375\nstep 360000 expected 36000.0 solution 35958.34765625 diff 41.65234375\nstep 396000 expected 39600.0 solution 39614.59765625 diff 14.59765625\nstep 432000 expected 43200.0 solution 43270.84765625 diff 70.84765625\nstep 468000 expected 46800.0 solution 46927.09765625 diff 127.09765625\nstep 504000 expected 50400.0 solution 50583.34765625 diff 183.34765625\nstep 540000 expected 54000.0 solution 54239.59765625 diff 239.59765625\nstep 576000 expected 57600.0 solution 57895.84765625 diff 295.84765625\nstep 612000 expected 61200.0 solution 61552.09765625 diff 352.09765625\nstep 648000 expected 64800.0 solution 65208.34765625 diff 408.34765625\nstep 684000 expected 68400.0 solution 68864.59375 diff 464.59375\nstep 720000 expected 72000.0 solution 72520.84375 diff 520.84375\nstep 756000 expected 75600.0 solution 76177.09375 diff 577.09375\nstep 792000 expected 79200.0 solution 79833.34375 diff 633.34375\nstep 828000 expected 82800.0 solution 83489.59375 diff 689.59375\nstep 864000 expected 86400.0 solution 87145.84375 diff 745.84375\nstep 900000 expected 90000.0 solution 90802.09375 diff 802.09375\nstep 936000 expected 93600.0 solution 94458.34375 diff 858.34375\nstep 972000 expected 97200.0 solution 98114.59375 diff 914.59375\n",
          "output_type": "stream"
        }
      ]
    },
    {
      "cell_type": "markdown",
      "source": "### [Kahan summation algorithm](https://en.wikipedia.org/wiki/Kahan_summation_algorithm)",
      "metadata": {}
    },
    {
      "cell_type": "code",
      "source": "import numpy as np\n\ndef kahan_summ():\n    tenth = np.float32(0.1)\n    count = np.float32(60*60*100*10)\n    print(f\"{count} {count*0.1}\")\n    sum = np.float32(0)      # Prepare the accumulator.\n    n = np.int64(0)\n    c = np.float32(0)        # A running compensation for lost low-order bits.\n    while n < 1000000:\n        y = tenth - c        # c is zero the first time around.\n        t = sum + y          # Alas, sum is big, y small, so low-order digits of y are lost.\n        c = (t - sum) - y    # (t - sum) cancels the high-order part of y; subtracting y recovers negative (low part of y)\n        sum = t              # Algebraically, c should always be zero. Beware overly-aggressive optimizing compilers!\n        n += 1               # Next time around, the lost low part will be added to y in a fresh attempt.\n        if n < 21 or n%36000 == 0:\n            print(f\"step {n} expected {0.1*n} solution {sum} diff {np.abs(0.1*n - sum)}\")\n\nkahan_summ()",
      "metadata": {
        "trusted": true
      },
      "execution_count": 33,
      "outputs": [
        {
          "name": "stdout",
          "text": "3600000.0 360000.0\nstep 1 expected 0.1 solution 0.10000000149011612 diff 1.4901161138336505e-09\nstep 2 expected 0.2 solution 0.20000000298023224 diff 2.980232227667301e-09\nstep 3 expected 0.30000000000000004 solution 0.30000001192092896 diff 1.1920928910669204e-08\nstep 4 expected 0.4 solution 0.4000000059604645 diff 5.960464455334602e-09\nstep 5 expected 0.5 solution 0.5 diff 0.0\nstep 6 expected 0.6000000000000001 solution 0.6000000238418579 diff 2.3841857821338408e-08\nstep 7 expected 0.7000000000000001 solution 0.699999988079071 diff 1.1920929021691506e-08\nstep 8 expected 0.8 solution 0.800000011920929 diff 1.1920928910669204e-08\nstep 9 expected 0.9 solution 0.9000000357627869 diff 3.5762786843029915e-08\nstep 10 expected 1.0 solution 1.0 diff 0.0\nstep 11 expected 1.1 solution 1.100000023841858 diff 2.3841857821338408e-08\nstep 12 expected 1.2000000000000002 solution 1.2000000476837158 diff 4.7683715642676816e-08\nstep 13 expected 1.3 solution 1.3000000715255737 diff 7.152557368605983e-08\nstep 14 expected 1.4000000000000001 solution 1.399999976158142 diff 2.3841858043383013e-08\nstep 15 expected 1.5 solution 1.5 diff 0.0\nstep 16 expected 1.6 solution 1.600000023841858 diff 2.3841857821338408e-08\nstep 17 expected 1.7000000000000002 solution 1.7000000476837158 diff 4.7683715642676816e-08\nstep 18 expected 1.8 solution 1.8000000715255737 diff 7.152557368605983e-08\nstep 19 expected 1.9000000000000001 solution 1.899999976158142 diff 2.3841858043383013e-08\nstep 20 expected 2.0 solution 2.0 diff 0.0\nstep 36000 expected 3600.0 solution 3600.0 diff 0.0\nstep 72000 expected 7200.0 solution 7200.0 diff 0.0\nstep 108000 expected 10800.0 solution 10800.0 diff 0.0\nstep 144000 expected 14400.0 solution 14400.0 diff 0.0\nstep 180000 expected 18000.0 solution 18000.0 diff 0.0\nstep 216000 expected 21600.0 solution 21600.0 diff 0.0\nstep 252000 expected 25200.0 solution 25200.0 diff 0.0\nstep 288000 expected 28800.0 solution 28800.0 diff 0.0\nstep 324000 expected 32400.0 solution 32400.0 diff 0.0\nstep 360000 expected 36000.0 solution 36000.0 diff 0.0\nstep 396000 expected 39600.0 solution 39600.0 diff 0.0\nstep 432000 expected 43200.0 solution 43200.0 diff 0.0\nstep 468000 expected 46800.0 solution 46800.0 diff 0.0\nstep 504000 expected 50400.0 solution 50400.0 diff 0.0\nstep 540000 expected 54000.0 solution 54000.0 diff 0.0\nstep 576000 expected 57600.0 solution 57600.0 diff 0.0\nstep 612000 expected 61200.0 solution 61200.0 diff 0.0\nstep 648000 expected 64800.0 solution 64800.0 diff 0.0\nstep 684000 expected 68400.0 solution 68400.0 diff 0.0\nstep 720000 expected 72000.0 solution 72000.0 diff 0.0\nstep 756000 expected 75600.0 solution 75600.0 diff 0.0\nstep 792000 expected 79200.0 solution 79200.0 diff 0.0\nstep 828000 expected 82800.0 solution 82800.0 diff 0.0\nstep 864000 expected 86400.0 solution 86400.0 diff 0.0\nstep 900000 expected 90000.0 solution 90000.0 diff 0.0\nstep 936000 expected 93600.0 solution 93600.0 diff 0.0\nstep 972000 expected 97200.0 solution 97200.0 diff 0.0\n",
          "output_type": "stream"
        }
      ]
    },
    {
      "cell_type": "markdown",
      "source": "### Harmonic number\nThe following function calculates the n-th [harmonic number](https://en.wikipedia.org/wiki/Harmonic_number) in two ways. What is the difference between the two loops? One loop runs through numbers 1 up to n, adding reciprocals. Second loop runs from n down to 1 and summs up the recipricals.",
      "metadata": {}
    },
    {
      "cell_type": "code",
      "source": "import numpy as np\n\ndef harmonic_number(n):\n    # forward sum\n    f_sum = np.float32(0.0)\n    for i in range(1, n+1):\n        f_sum += np.float32(1.0/i)\n    \n    # backward sum\n    b_sum = np.float32(0.0)\n    for i in range(n, 0, -1):\n        b_sum += np.float32(1.0/i)\n\n    print(\"Forward sum\", f_sum)\n    print(\"Backward sum\", b_sum)",
      "metadata": {
        "trusted": true
      },
      "execution_count": 34,
      "outputs": []
    },
    {
      "cell_type": "code",
      "source": "%%time\nharmonic_number(10_000_000)",
      "metadata": {
        "trusted": true
      },
      "execution_count": 35,
      "outputs": [
        {
          "name": "stdout",
          "text": "Forward sum 15.403683\nBackward sum 16.686031\nCPU times: user 0 ns, sys: 0 ns, total: 0 ns\nWall time: 23.5 s\n",
          "output_type": "stream"
        }
      ]
    },
    {
      "cell_type": "code",
      "source": "%%time\nharmonic_number(100_000_000)",
      "metadata": {
        "trusted": true
      },
      "execution_count": 36,
      "outputs": [
        {
          "name": "stdout",
          "text": "Forward sum 15.403683\nBackward sum 18.807919\nCPU times: user 0 ns, sys: 0 ns, total: 0 ns\nWall time: 4min 26s\n",
          "output_type": "stream"
        }
      ]
    },
    {
      "cell_type": "markdown",
      "source": "### Quadratic equations",
      "metadata": {}
    },
    {
      "cell_type": "code",
      "source": "import math\nimport numpy as np\n\na=1.0\nb=1.786737589984535\nc=1.149782767465722e-8",
      "metadata": {
        "trusted": true
      },
      "execution_count": 37,
      "outputs": []
    },
    {
      "cell_type": "code",
      "source": "x_1 = (-b - math.sqrt(b**2 - 4*a*c))/(2*a)\nx_2 = (-b + math.sqrt(b**2 - 4*a*c))/(2*a)\nprint(x_1, x_2)",
      "metadata": {
        "trusted": true
      },
      "execution_count": 38,
      "outputs": [
        {
          "name": "stdout",
          "text": "-1.786737583549439 -6.435095900592103e-09\n",
          "output_type": "stream"
        }
      ]
    },
    {
      "cell_type": "code",
      "source": "x_1 = (-b - np.sign(b)*math.sqrt(b**2 - 4*a*c))/(2*a)\nx_2 = c/(a*x_1)\nprint(x_1, x_2)",
      "metadata": {
        "trusted": true
      },
      "execution_count": 39,
      "outputs": [
        {
          "name": "stdout",
          "text": "-1.786737583549439 -6.435095886781673e-09\n",
          "output_type": "stream"
        }
      ]
    },
    {
      "cell_type": "code",
      "source": "",
      "metadata": {},
      "execution_count": null,
      "outputs": []
    }
  ]
}