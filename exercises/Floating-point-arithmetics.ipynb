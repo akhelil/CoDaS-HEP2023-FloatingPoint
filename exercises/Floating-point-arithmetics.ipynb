{
  "metadata": {
    "language_info": {
      "codemirror_mode": {
        "name": "python",
        "version": 3
      },
      "file_extension": ".py",
      "mimetype": "text/x-python",
      "name": "python",
      "nbconvert_exporter": "python",
      "pygments_lexer": "ipython3",
      "version": "3.8"
    },
    "kernelspec": {
      "name": "python",
      "display_name": "Python (Pyodide)",
      "language": "python"
    }
  },
  "nbformat_minor": 4,
  "nbformat": 4,
  "cells": [
    {
      "cell_type": "markdown",
      "source": "### Machine limits for integer and floating-point types\nGet the machine limit for <i>np.float32</i>, <i>np.float64</i>, and <i>np.double</i> using <i>np.iinfo()</i>.",
      "metadata": {}
    },
    {
      "cell_type": "code",
      "source": "import numpy as np\nnp.iinfo(np.int32)",
      "metadata": {
        "trusted": true
      },
      "execution_count": null,
      "outputs": []
    },
    {
      "cell_type": "code",
      "source": "np.iinfo(np.int32).max",
      "metadata": {
        "trusted": true
      },
      "execution_count": null,
      "outputs": []
    },
    {
      "cell_type": "code",
      "source": "np.iinfo(int)",
      "metadata": {
        "trusted": true
      },
      "execution_count": null,
      "outputs": []
    },
    {
      "cell_type": "code",
      "source": "np.finfo(np.float32)",
      "metadata": {
        "trusted": true
      },
      "execution_count": null,
      "outputs": []
    },
    {
      "cell_type": "code",
      "source": "np.finfo(np.float32).eps",
      "metadata": {
        "trusted": true
      },
      "execution_count": null,
      "outputs": []
    },
    {
      "cell_type": "code",
      "source": "np.finfo(np.float64)",
      "metadata": {
        "trusted": true
      },
      "execution_count": null,
      "outputs": []
    },
    {
      "cell_type": "code",
      "source": "np.finfo(np.double)",
      "metadata": {
        "trusted": true
      },
      "execution_count": null,
      "outputs": []
    },
    {
      "cell_type": "markdown",
      "source": "### Check subtraction of two floating-point numbers",
      "metadata": {}
    },
    {
      "cell_type": "code",
      "source": "import numpy as np\n\ndef diff(n1, n2, d):\n    print(\"First number:\", n1)\n    print(\"Second number:\", n2)\n    print(\"Their difference:\", d)\n    print(\"Computed difference - input difference = \", n1 - n2 - d)",
      "metadata": {
        "trusted": true
      },
      "execution_count": null,
      "outputs": []
    },
    {
      "cell_type": "code",
      "source": "x1 = np.float32(1.5)\nx2 = np.float32(1.0)\nx_diff = np.float32(0.5)\n\ndiff(x1, x2, x_diff)",
      "metadata": {
        "trusted": true
      },
      "execution_count": null,
      "outputs": []
    },
    {
      "cell_type": "code",
      "source": "x1 = np.float32(1.1)\nx2 = np.float32(1.0)\nx_diff = np.float32(0.1)\n\ndiff(x1, x2, x_diff)",
      "metadata": {
        "trusted": true
      },
      "execution_count": null,
      "outputs": []
    },
    {
      "cell_type": "markdown",
      "source": "### Inexactness\nWhich of the following expresions are <i>True</i>?",
      "metadata": {}
    },
    {
      "cell_type": "code",
      "source": "0.1 + 0.1 + 0.1 == 0.3",
      "metadata": {
        "trusted": true
      },
      "execution_count": null,
      "outputs": []
    },
    {
      "cell_type": "code",
      "source": "x1 = 0.1\nx2 = 0.10000000000000001\nx3 = 0.1000000000000000055511151231257827021181583404541015625",
      "metadata": {
        "trusted": true
      },
      "execution_count": null,
      "outputs": []
    },
    {
      "cell_type": "code",
      "source": "eval(repr(x1)) == x1",
      "metadata": {
        "trusted": true
      },
      "execution_count": null,
      "outputs": []
    },
    {
      "cell_type": "code",
      "source": "eval(repr(x1)) == x2",
      "metadata": {
        "trusted": true
      },
      "execution_count": null,
      "outputs": []
    },
    {
      "cell_type": "code",
      "source": "eval(repr(x1)) == x3",
      "metadata": {
        "trusted": true
      },
      "execution_count": null,
      "outputs": []
    },
    {
      "cell_type": "markdown",
      "source": "### Holes in value range\nWhat is the result of the following subtraction? Is it 0.0?",
      "metadata": {}
    },
    {
      "cell_type": "code",
      "source": "a = 1.0\nb = 0.1\nc = 1.1\nc - a - b",
      "metadata": {
        "trusted": true
      },
      "execution_count": null,
      "outputs": []
    },
    {
      "cell_type": "markdown",
      "source": "### Fractions\nThe [fractions](https://docs.python.org/3/library/fractions.html) module provides support for rational number arithmetic.\n\nReturn is a new Fraction instance with value numerator/denominator.",
      "metadata": {}
    },
    {
      "cell_type": "code",
      "source": "from fractions import Fraction\n\nFraction(1.1)",
      "metadata": {
        "trusted": true
      },
      "execution_count": null,
      "outputs": []
    },
    {
      "cell_type": "markdown",
      "source": "Fraction(1.1) does not return Fraction(11, 10). To find rational approximations to a given floating-point number:",
      "metadata": {}
    },
    {
      "cell_type": "code",
      "source": "Fraction(1.1).limit_denominator()",
      "metadata": {
        "trusted": true
      },
      "execution_count": null,
      "outputs": []
    },
    {
      "cell_type": "markdown",
      "source": "### Conversions\nConversions to an integer can reveal the inaccuracies in a floating-point number. The closest single-precision floating-point number to 20.23 is slightly less than 20.23. When it is multiplied by a hundred, the result is slightly less than 2023.0. Note, there is no rounding in converting 'y' to an integer 'i', the number is truncated:",
      "metadata": {}
    },
    {
      "cell_type": "code",
      "source": "x = np.float32(20.23)\ny = x * 100.\ni = int(y)\nprint(i, y)",
      "metadata": {
        "trusted": true
      },
      "execution_count": null,
      "outputs": []
    },
    {
      "cell_type": "code",
      "source": "x = np.float64(20.23)\ny = x * 100.\ni = int(y)\nprint(i, y)",
      "metadata": {
        "trusted": true
      },
      "execution_count": null,
      "outputs": []
    },
    {
      "cell_type": "markdown",
      "source": "Assigning a single-precision number to a double-precision number doesn't increase the number of significant digits:",
      "metadata": {}
    },
    {
      "cell_type": "code",
      "source": "x = np.float32(1.66661)\ny = np.float64(x)\nprint(y)",
      "metadata": {
        "trusted": true
      },
      "execution_count": null,
      "outputs": []
    },
    {
      "cell_type": "markdown",
      "source": "Why there are simingly random <i>00025177002</i> numbers and not <i>00000000000</i>?",
      "metadata": {}
    },
    {
      "cell_type": "markdown",
      "source": "The floating-point padding with zeros is done in the binary representation: 1.10101010101001101111010000000000000000000000000000000000010101...",
      "metadata": {}
    },
    {
      "cell_type": "markdown",
      "source": "### Rounding",
      "metadata": {}
    },
    {
      "cell_type": "code",
      "source": "round(256.49999) == 256",
      "metadata": {
        "trusted": true
      },
      "execution_count": null,
      "outputs": []
    },
    {
      "cell_type": "code",
      "source": "-1.225 * 100",
      "metadata": {
        "trusted": true
      },
      "execution_count": null,
      "outputs": []
    },
    {
      "cell_type": "markdown",
      "source": "### [Decimal](https://docs.python.org/3/library/decimal.html) fixed point and floating-point arithmetic",
      "metadata": {}
    },
    {
      "cell_type": "code",
      "source": "from decimal import *\ngetcontext()",
      "metadata": {
        "trusted": true
      },
      "execution_count": null,
      "outputs": []
    },
    {
      "cell_type": "code",
      "source": "Decimal('0.1') + Decimal('0.1') + Decimal('0.1') == Decimal('0.3')",
      "metadata": {
        "trusted": true
      },
      "execution_count": null,
      "outputs": []
    },
    {
      "cell_type": "markdown",
      "source": "### Accuracy of floating-point arithmetic\nExamples from Donald E. Knuth \"The Art of Computer Programming\", volume 2 / Seminumerical Algorithms, Section 4.2.2",
      "metadata": {}
    },
    {
      "cell_type": "code",
      "source": "u, v, w = 11111113, -11111111, 7.51111111\n(u + v) + w",
      "metadata": {
        "trusted": true
      },
      "execution_count": null,
      "outputs": []
    },
    {
      "cell_type": "code",
      "source": "u + (v + w)",
      "metadata": {
        "trusted": true
      },
      "execution_count": null,
      "outputs": []
    },
    {
      "cell_type": "code",
      "source": "u, v, w = 20000, -6, 6.0000003\n(u*v) + (u*w)",
      "metadata": {
        "trusted": true
      },
      "execution_count": null,
      "outputs": []
    },
    {
      "cell_type": "code",
      "source": "u * (v+w)",
      "metadata": {
        "trusted": true
      },
      "execution_count": null,
      "outputs": []
    },
    {
      "cell_type": "code",
      "source": "from decimal import Decimal, getcontext\ngetcontext().prec = 8\n\nu, v, w = Decimal(20000.), Decimal(-6.), Decimal('6.0000003')\n(u*v) + (u*w)",
      "metadata": {
        "trusted": true
      },
      "execution_count": null,
      "outputs": []
    },
    {
      "cell_type": "code",
      "source": "u * (v+w)",
      "metadata": {
        "trusted": true
      },
      "execution_count": null,
      "outputs": []
    },
    {
      "cell_type": "markdown",
      "source": "### Summing many numbers\nWhat are the potential arithmetic issues when summing many numbers?\n\n[Patriot Missile Defense:\nSoftware Problem Led to System Failure at Dhahran, Saudi Arabia](https://www.gao.gov/products/imtec-92-26)",
      "metadata": {}
    },
    {
      "cell_type": "code",
      "source": "import numpy as np\n\ndef summ():\n    tenth = np.float32(0.1)\n    count = np.float32(60*60*100*10)\n    print(f\"{count} {count*0.1}\")\n    sum = np.float32(0)\n    n = np.int64(0)\n    while n < 1000000:\n        sum += tenth\n        n += 1\n        if n < 21 or n%36000 == 0:\n            print(f\"step {n} expected {0.1*n} solution {sum} diff {np.abs(0.1*n - sum)}\")\n\nsumm()",
      "metadata": {
        "trusted": true
      },
      "execution_count": null,
      "outputs": []
    },
    {
      "cell_type": "markdown",
      "source": "### [Kahan summation algorithm](https://en.wikipedia.org/wiki/Kahan_summation_algorithm)",
      "metadata": {}
    },
    {
      "cell_type": "code",
      "source": "import numpy as np\n\ndef kahan_summ():\n    tenth = np.float32(0.1)\n    count = np.float32(60*60*100*10)\n    print(f\"{count} {count*0.1}\")\n    sum = np.float32(0)      # Prepare the accumulator.\n    n = np.int64(0)\n    c = np.float32(0)        # A running compensation for lost low-order bits.\n    while n < 1000000:\n        y = tenth - c        # c is zero the first time around.\n        t = sum + y          # Alas, sum is big, y small, so low-order digits of y are lost.\n        c = (t - sum) - y    # (t - sum) cancels the high-order part of y; subtracting y recovers negative (low part of y)\n        sum = t              # Algebraically, c should always be zero. Beware overly-aggressive optimizing compilers!\n        n += 1               # Next time around, the lost low part will be added to y in a fresh attempt.\n        if n < 21 or n%36000 == 0:\n            print(f\"step {n} expected {0.1*n} solution {sum} diff {np.abs(0.1*n - sum)}\")\n\nkahan_summ()",
      "metadata": {
        "trusted": true
      },
      "execution_count": null,
      "outputs": []
    },
    {
      "cell_type": "markdown",
      "source": "### Harmonic number\nThe following function calculates the n-th [harmonic number](https://en.wikipedia.org/wiki/Harmonic_number) in two ways. What is the difference between the two loops? One loop runs through numbers 1 up to n, adding reciprocals. Second loop runs from n down to 1 and summs up the recipricals.",
      "metadata": {}
    },
    {
      "cell_type": "code",
      "source": "import numpy as np\n\ndef harmonic_number(n):\n    # forward sum\n    f_sum = np.float32(0.0)\n    for i in range(1, n+1):\n        f_sum += np.float32(1.0/i)\n    \n    # backward sum\n    b_sum = np.float32(0.0)\n    for i in range(n, 0, -1):\n        b_sum += np.float32(1.0/i)\n\n    print(\"Forward sum\", f_sum)\n    print(\"Backward sum\", b_sum)",
      "metadata": {
        "trusted": true
      },
      "execution_count": null,
      "outputs": []
    },
    {
      "cell_type": "code",
      "source": "%%time\nharmonic_number(10_000_000)",
      "metadata": {
        "trusted": true
      },
      "execution_count": null,
      "outputs": []
    },
    {
      "cell_type": "code",
      "source": "harmonic_number(100_000_000)",
      "metadata": {
        "trusted": true
      },
      "execution_count": null,
      "outputs": []
    },
    {
      "cell_type": "markdown",
      "source": "### Quadratic equations",
      "metadata": {}
    },
    {
      "cell_type": "code",
      "source": "import math\nimport numpy as np\n\na=1.0\nb=1.786737589984535\nc=1.149782767465722e-8",
      "metadata": {
        "trusted": true
      },
      "execution_count": null,
      "outputs": []
    },
    {
      "cell_type": "code",
      "source": "x_1 = (-b - math.sqrt(b**2 - 4*a*c))/(2*a)\nx_2 = (-b + math.sqrt(b**2 - 4*a*c))/(2*a)\nprint(x_1, x_2)",
      "metadata": {
        "trusted": true
      },
      "execution_count": null,
      "outputs": []
    },
    {
      "cell_type": "code",
      "source": "x_1 = (-b - np.sign(b)*math.sqrt(b**2 - 4*a*c))/(2*a)\nx_2 = c/(a*x_1)\nprint(x_1, x_2)",
      "metadata": {
        "trusted": true
      },
      "execution_count": null,
      "outputs": []
    }
  ]
}