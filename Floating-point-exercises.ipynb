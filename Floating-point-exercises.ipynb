{
 "cells": [
  {
   "cell_type": "markdown",
   "id": "13271e5c",
   "metadata": {},
   "source": [
    "### Machine limits for integer and floating point types\n",
    "Get the machine limit for <i>float32</i>, <i>float64</i>, and <i>double</i> using <i>np.iinfo()</i>."
   ]
  },
  {
   "cell_type": "code",
   "execution_count": 1,
   "id": "deb66d19",
   "metadata": {},
   "outputs": [
    {
     "data": {
      "text/plain": [
       "iinfo(min=-2147483648, max=2147483647, dtype=int32)"
      ]
     },
     "execution_count": 1,
     "metadata": {},
     "output_type": "execute_result"
    }
   ],
   "source": [
    "import numpy as np\n",
    "np.iinfo(np.int32)"
   ]
  },
  {
   "cell_type": "code",
   "execution_count": 2,
   "id": "e79fd753",
   "metadata": {},
   "outputs": [
    {
     "data": {
      "text/plain": [
       "2147483647"
      ]
     },
     "execution_count": 2,
     "metadata": {},
     "output_type": "execute_result"
    }
   ],
   "source": [
    "np.iinfo(np.int32).max"
   ]
  },
  {
   "cell_type": "code",
   "execution_count": 3,
   "id": "47da23b3",
   "metadata": {},
   "outputs": [
    {
     "data": {
      "text/plain": [
       "iinfo(min=-9223372036854775808, max=9223372036854775807, dtype=int64)"
      ]
     },
     "execution_count": 3,
     "metadata": {},
     "output_type": "execute_result"
    }
   ],
   "source": [
    "np.iinfo(int)"
   ]
  },
  {
   "cell_type": "code",
   "execution_count": 4,
   "id": "a4bf6c60",
   "metadata": {},
   "outputs": [
    {
     "data": {
      "text/plain": [
       "finfo(resolution=1e-06, min=-3.4028235e+38, max=3.4028235e+38, dtype=float32)"
      ]
     },
     "execution_count": 4,
     "metadata": {},
     "output_type": "execute_result"
    }
   ],
   "source": [
    "np.finfo(np.float32)"
   ]
  },
  {
   "cell_type": "code",
   "execution_count": 5,
   "id": "c559a6bd",
   "metadata": {},
   "outputs": [
    {
     "data": {
      "text/plain": [
       "finfo(resolution=1e-15, min=-1.7976931348623157e+308, max=1.7976931348623157e+308, dtype=float64)"
      ]
     },
     "execution_count": 5,
     "metadata": {},
     "output_type": "execute_result"
    }
   ],
   "source": [
    "np.finfo(np.float64)"
   ]
  },
  {
   "cell_type": "code",
   "execution_count": 6,
   "id": "457c8720",
   "metadata": {},
   "outputs": [
    {
     "data": {
      "text/plain": [
       "finfo(resolution=1e-15, min=-1.7976931348623157e+308, max=1.7976931348623157e+308, dtype=float64)"
      ]
     },
     "execution_count": 6,
     "metadata": {},
     "output_type": "execute_result"
    }
   ],
   "source": [
    "np.finfo(np.double)"
   ]
  },
  {
   "cell_type": "markdown",
   "id": "ac83e672",
   "metadata": {},
   "source": [
    "### Inexactness\n",
    "Are the following expresions <i>True</i>?"
   ]
  },
  {
   "cell_type": "code",
   "execution_count": 7,
   "id": "6e786ff9",
   "metadata": {},
   "outputs": [
    {
     "data": {
      "text/plain": [
       "False"
      ]
     },
     "execution_count": 7,
     "metadata": {},
     "output_type": "execute_result"
    }
   ],
   "source": [
    "0.1 + 0.1 + 0.1 == 0.3"
   ]
  },
  {
   "cell_type": "code",
   "execution_count": 8,
   "id": "5048d046",
   "metadata": {},
   "outputs": [],
   "source": [
    "x1 = 0.1\n",
    "x2 = 0.10000000000000001\n",
    "x3 = 0.1000000000000000055511151231257827021181583404541015625"
   ]
  },
  {
   "cell_type": "code",
   "execution_count": 9,
   "id": "f97a977e",
   "metadata": {},
   "outputs": [
    {
     "data": {
      "text/plain": [
       "True"
      ]
     },
     "execution_count": 9,
     "metadata": {},
     "output_type": "execute_result"
    }
   ],
   "source": [
    "eval(repr(x1)) == x1"
   ]
  },
  {
   "cell_type": "code",
   "execution_count": 10,
   "id": "ca429ae7",
   "metadata": {},
   "outputs": [
    {
     "data": {
      "text/plain": [
       "True"
      ]
     },
     "execution_count": 10,
     "metadata": {},
     "output_type": "execute_result"
    }
   ],
   "source": [
    "eval(repr(x1)) == x2"
   ]
  },
  {
   "cell_type": "code",
   "execution_count": 11,
   "id": "ee7100bc",
   "metadata": {},
   "outputs": [
    {
     "data": {
      "text/plain": [
       "True"
      ]
     },
     "execution_count": 11,
     "metadata": {},
     "output_type": "execute_result"
    }
   ],
   "source": [
    "eval(repr(x1)) == x3"
   ]
  },
  {
   "cell_type": "markdown",
   "id": "7243ce55",
   "metadata": {},
   "source": [
    "### Holes in value range\n",
    "What is the result of the following subtraction? Is it 0.0?"
   ]
  },
  {
   "cell_type": "code",
   "execution_count": 12,
   "id": "be89faf0",
   "metadata": {},
   "outputs": [
    {
     "data": {
      "text/plain": [
       "8.326672684688674e-17"
      ]
     },
     "execution_count": 12,
     "metadata": {},
     "output_type": "execute_result"
    }
   ],
   "source": [
    "a = 1.0\n",
    "b = 0.1\n",
    "c = 1.1\n",
    "c - a - b"
   ]
  },
  {
   "cell_type": "markdown",
   "id": "9848abfd",
   "metadata": {},
   "source": [
    "### Conversions"
   ]
  },
  {
   "cell_type": "code",
   "execution_count": 13,
   "id": "46400054",
   "metadata": {},
   "outputs": [
    {
     "data": {
      "text/plain": [
       "'1.23.5'"
      ]
     },
     "execution_count": 13,
     "metadata": {},
     "output_type": "execute_result"
    }
   ],
   "source": [
    "import numpy as np\n",
    "np.__version__"
   ]
  },
  {
   "cell_type": "markdown",
   "id": "738da5b5",
   "metadata": {},
   "source": [
    "Conversions to an integer can reveal the inaccuracies in a floating-point number. The closest *single-precision* floating-point number to 20.23 is slightly less than 20.23. When it is multiplied by a hundred, the result is slightly less than 2023.0. Note, there is no rounding in converting 'y' to an integer 'i', the number is truncated:"
   ]
  },
  {
   "cell_type": "code",
   "execution_count": 14,
   "id": "434a2faa",
   "metadata": {},
   "outputs": [
    {
     "name": "stdout",
     "output_type": "stream",
     "text": [
      "2022 2022.9999542236328\n"
     ]
    }
   ],
   "source": [
    "x = np.float32(20.23)\n",
    "y = x * 100.\n",
    "i = int(y)\n",
    "print(i, y)"
   ]
  },
  {
   "cell_type": "code",
   "execution_count": 15,
   "id": "88ad3023",
   "metadata": {},
   "outputs": [
    {
     "name": "stdout",
     "output_type": "stream",
     "text": [
      "2023 2023.0\n"
     ]
    }
   ],
   "source": [
    "x = np.float64(20.23)\n",
    "y = x * 100.\n",
    "i = int(y)\n",
    "print(i, y)"
   ]
  },
  {
   "cell_type": "markdown",
   "id": "55bafa1f",
   "metadata": {},
   "source": [
    "Assigning a single-precision number to a double-precision number doesn't increase the number of significant digits:"
   ]
  },
  {
   "cell_type": "code",
   "execution_count": 16,
   "id": "75619410",
   "metadata": {},
   "outputs": [
    {
     "name": "stdout",
     "output_type": "stream",
     "text": [
      "1.6666100025177002\n"
     ]
    }
   ],
   "source": [
    "x = np.float32(1.66661)\n",
    "y = np.float64(x)\n",
    "print(y)"
   ]
  },
  {
   "cell_type": "markdown",
   "id": "072acf0b",
   "metadata": {},
   "source": [
    "Why there are simingly random <i>00025177002</i> numbers and not <i>00000000000</i>?"
   ]
  },
  {
   "cell_type": "markdown",
   "id": "8a4ad2bf",
   "metadata": {},
   "source": [
    "The floating point padding with zeros is done in the binary representation:\n",
    "1.10101010101001101111010000000000000000000000000000000000010101..."
   ]
  },
  {
   "cell_type": "markdown",
   "id": "1848fc0b",
   "metadata": {},
   "source": [
    "### Rounding"
   ]
  },
  {
   "cell_type": "code",
   "execution_count": 17,
   "id": "c1c8aa17",
   "metadata": {},
   "outputs": [
    {
     "data": {
      "text/plain": [
       "True"
      ]
     },
     "execution_count": 17,
     "metadata": {},
     "output_type": "execute_result"
    }
   ],
   "source": [
    "round(256.49999) == 256"
   ]
  },
  {
   "cell_type": "code",
   "execution_count": 18,
   "id": "08069097",
   "metadata": {},
   "outputs": [
    {
     "data": {
      "text/plain": [
       "-122.50000000000001"
      ]
     },
     "execution_count": 18,
     "metadata": {},
     "output_type": "execute_result"
    }
   ],
   "source": [
    "-1.225 * 100"
   ]
  },
  {
   "cell_type": "markdown",
   "id": "5dd099e0",
   "metadata": {},
   "source": [
    "### Decimal fixed point and floating point arithmetic\n",
    "https://docs.python.org/3/library/decimal.html"
   ]
  },
  {
   "cell_type": "code",
   "execution_count": 19,
   "id": "9bae3a18",
   "metadata": {},
   "outputs": [
    {
     "data": {
      "text/plain": [
       "Context(prec=28, rounding=ROUND_HALF_EVEN, Emin=-999999, Emax=999999, capitals=1, clamp=0, flags=[], traps=[InvalidOperation, DivisionByZero, Overflow])"
      ]
     },
     "execution_count": 19,
     "metadata": {},
     "output_type": "execute_result"
    }
   ],
   "source": [
    "from decimal import *\n",
    "getcontext()"
   ]
  },
  {
   "cell_type": "code",
   "execution_count": 20,
   "id": "0b373a93",
   "metadata": {},
   "outputs": [],
   "source": [
    "getcontext().prec = 6"
   ]
  },
  {
   "cell_type": "code",
   "execution_count": 21,
   "id": "a9760558",
   "metadata": {},
   "outputs": [
    {
     "data": {
      "text/plain": [
       "Decimal('0.300000')"
      ]
     },
     "execution_count": 21,
     "metadata": {},
     "output_type": "execute_result"
    }
   ],
   "source": [
    "Decimal(0.1) + Decimal(0.1) + Decimal(0.1)"
   ]
  },
  {
   "cell_type": "markdown",
   "id": "f41320fa",
   "metadata": {},
   "source": [
    "### Accuracy of floating point arithmetic\n",
    "Examples from Donald E. Knuth The Art of Computer Programming, volume 2 / Seminumerical Algorithms, Section 4.2.2"
   ]
  },
  {
   "cell_type": "code",
   "execution_count": 22,
   "id": "bd9c930f",
   "metadata": {},
   "outputs": [
    {
     "data": {
      "text/plain": [
       "Decimal('9.5111111')"
      ]
     },
     "execution_count": 22,
     "metadata": {},
     "output_type": "execute_result"
    }
   ],
   "source": [
    "from decimal import Decimal, getcontext\n",
    "getcontext().prec = 8\n",
    "\n",
    "u, v, w = Decimal(11111113), Decimal(-11111111), Decimal('7.51111111')\n",
    "(u + v) + w"
   ]
  },
  {
   "cell_type": "code",
   "execution_count": 23,
   "id": "32ac7bc4",
   "metadata": {},
   "outputs": [
    {
     "data": {
      "text/plain": [
       "Decimal('10')"
      ]
     },
     "execution_count": 23,
     "metadata": {},
     "output_type": "execute_result"
    }
   ],
   "source": [
    "u + (v + w)"
   ]
  },
  {
   "cell_type": "code",
   "execution_count": 24,
   "id": "af8d6200",
   "metadata": {},
   "outputs": [
    {
     "data": {
      "text/plain": [
       "Decimal('0.01')"
      ]
     },
     "execution_count": 24,
     "metadata": {},
     "output_type": "execute_result"
    }
   ],
   "source": [
    "u, v, w = Decimal(20000), Decimal(-6), Decimal('6.0000003')\n",
    "(u*v) + (u*w)"
   ]
  },
  {
   "cell_type": "code",
   "execution_count": 25,
   "id": "875681b5",
   "metadata": {},
   "outputs": [
    {
     "data": {
      "text/plain": [
       "Decimal('0.0060000')"
      ]
     },
     "execution_count": 25,
     "metadata": {},
     "output_type": "execute_result"
    }
   ],
   "source": [
    "u * (v+w)"
   ]
  },
  {
   "cell_type": "code",
   "execution_count": 26,
   "id": "d37dde5a",
   "metadata": {},
   "outputs": [
    {
     "data": {
      "text/plain": [
       "Decimal('80.000064')"
      ]
     },
     "execution_count": 26,
     "metadata": {},
     "output_type": "execute_result"
    }
   ],
   "source": [
    "u, v, w = Decimal(8.0000001), Decimal(1.2500008), Decimal(8.0000008)\n",
    "(u * v) * w"
   ]
  },
  {
   "cell_type": "code",
   "execution_count": 27,
   "id": "8b8c6664",
   "metadata": {},
   "outputs": [
    {
     "data": {
      "text/plain": [
       "Decimal('80.000057')"
      ]
     },
     "execution_count": 27,
     "metadata": {},
     "output_type": "execute_result"
    }
   ],
   "source": [
    "u * (v * w)"
   ]
  },
  {
   "cell_type": "markdown",
   "id": "3b0b479f",
   "metadata": {},
   "source": [
    "### Summing many numbers"
   ]
  },
  {
   "cell_type": "code",
   "execution_count": 28,
   "id": "890400af",
   "metadata": {},
   "outputs": [
    {
     "name": "stdout",
     "output_type": "stream",
     "text": [
      "3600000.0 360000.0\n",
      "step 1 expected 0.1 solution 0.10000000149011612 diff 1.4901161138336505e-09\n",
      "step 2 expected 0.2 solution 0.20000000298023224 diff 2.980232227667301e-09\n",
      "step 3 expected 0.30000000000000004 solution 0.30000001192092896 diff 1.1920928910669204e-08\n",
      "step 4 expected 0.4 solution 0.4000000059604645 diff 5.960464455334602e-09\n",
      "step 5 expected 0.5 solution 0.5 diff 0.0\n",
      "step 6 expected 0.6000000000000001 solution 0.6000000238418579 diff 2.3841857821338408e-08\n",
      "step 7 expected 0.7000000000000001 solution 0.7000000476837158 diff 4.768371575369912e-08\n",
      "step 8 expected 0.8 solution 0.8000000715255737 diff 7.152557368605983e-08\n",
      "step 9 expected 0.9 solution 0.9000000953674316 diff 9.536743161842054e-08\n",
      "step 10 expected 1.0 solution 1.0000001192092896 diff 1.1920928955078125e-07\n",
      "step 11 expected 1.1 solution 1.1000001430511475 diff 1.4305114737211966e-07\n",
      "step 12 expected 1.2000000000000002 solution 1.2000001668930054 diff 1.6689300519345807e-07\n",
      "step 13 expected 1.3 solution 1.3000001907348633 diff 1.9073486323684108e-07\n",
      "step 14 expected 1.4000000000000001 solution 1.4000002145767212 diff 2.145767210581795e-07\n",
      "step 15 expected 1.5 solution 1.500000238418579 diff 2.384185791015625e-07\n",
      "step 16 expected 1.6 solution 1.600000262260437 diff 2.622604369229009e-07\n",
      "step 17 expected 1.7000000000000002 solution 1.700000286102295 diff 2.861022947442393e-07\n",
      "step 18 expected 1.8 solution 1.8000003099441528 diff 3.0994415278762233e-07\n",
      "step 19 expected 1.9000000000000001 solution 1.9000003337860107 diff 3.3378601060896074e-07\n",
      "step 20 expected 2.0 solution 2.000000238418579 diff 2.384185791015625e-07\n",
      "step 36000 expected 3600.0 solution 3601.162353515625 diff 1.162353515625\n",
      "step 72000 expected 7200.0 solution 7204.677734375 diff 4.677734375\n",
      "step 108000 expected 10800.0 solution 10795.431640625 diff 4.568359375\n",
      "step 144000 expected 14400.0 solution 14381.369140625 diff 18.630859375\n",
      "step 180000 expected 18000.0 solution 17967.306640625 diff 32.693359375\n",
      "step 216000 expected 21600.0 solution 21553.244140625 diff 46.755859375\n",
      "step 252000 expected 25200.0 solution 25139.181640625 diff 60.818359375\n",
      "step 288000 expected 28800.0 solution 28725.119140625 diff 74.880859375\n",
      "step 324000 expected 32400.0 solution 32311.056640625 diff 88.943359375\n",
      "step 360000 expected 36000.0 solution 35958.34765625 diff 41.65234375\n",
      "step 396000 expected 39600.0 solution 39614.59765625 diff 14.59765625\n",
      "step 432000 expected 43200.0 solution 43270.84765625 diff 70.84765625\n",
      "step 468000 expected 46800.0 solution 46927.09765625 diff 127.09765625\n",
      "step 504000 expected 50400.0 solution 50583.34765625 diff 183.34765625\n",
      "step 540000 expected 54000.0 solution 54239.59765625 diff 239.59765625\n",
      "step 576000 expected 57600.0 solution 57895.84765625 diff 295.84765625\n",
      "step 612000 expected 61200.0 solution 61552.09765625 diff 352.09765625\n",
      "step 648000 expected 64800.0 solution 65208.34765625 diff 408.34765625\n",
      "step 684000 expected 68400.0 solution 68864.59375 diff 464.59375\n",
      "step 720000 expected 72000.0 solution 72520.84375 diff 520.84375\n",
      "step 756000 expected 75600.0 solution 76177.09375 diff 577.09375\n",
      "step 792000 expected 79200.0 solution 79833.34375 diff 633.34375\n",
      "step 828000 expected 82800.0 solution 83489.59375 diff 689.59375\n",
      "step 864000 expected 86400.0 solution 87145.84375 diff 745.84375\n",
      "step 900000 expected 90000.0 solution 90802.09375 diff 802.09375\n",
      "step 936000 expected 93600.0 solution 94458.34375 diff 858.34375\n",
      "step 972000 expected 97200.0 solution 98114.59375 diff 914.59375\n"
     ]
    }
   ],
   "source": [
    "import numpy as np\n",
    "\n",
    "def summ():\n",
    "    tenth = np.float32(0.1)\n",
    "    count = np.float32(60*60*100*10)\n",
    "    print(f\"{count} {count*0.1}\")\n",
    "    sum = np.float32(0)\n",
    "    n = np.int64(0)\n",
    "    while n < 1000000:\n",
    "        sum += tenth\n",
    "        n += 1\n",
    "        if n < 21 or n%36000 == 0:\n",
    "            print(f\"step {n} expected {0.1*n} solution {sum} diff {np.abs(0.1*n - sum)}\")\n",
    "\n",
    "summ()"
   ]
  },
  {
   "cell_type": "markdown",
   "id": "300877e0",
   "metadata": {},
   "source": [
    "### Kahan summation algorithm\n",
    "https://en.wikipedia.org/wiki/Kahan_summation_algorithm"
   ]
  },
  {
   "cell_type": "code",
   "execution_count": 29,
   "id": "f19cfcaa",
   "metadata": {},
   "outputs": [
    {
     "name": "stdout",
     "output_type": "stream",
     "text": [
      "3600000.0 360000.0\n",
      "step 1 expected 0.1 solution 0.10000000149011612 diff 1.4901161138336505e-09\n",
      "step 2 expected 0.2 solution 0.20000000298023224 diff 2.980232227667301e-09\n",
      "step 3 expected 0.30000000000000004 solution 0.30000001192092896 diff 1.1920928910669204e-08\n",
      "step 4 expected 0.4 solution 0.4000000059604645 diff 5.960464455334602e-09\n",
      "step 5 expected 0.5 solution 0.5 diff 0.0\n",
      "step 6 expected 0.6000000000000001 solution 0.6000000238418579 diff 2.3841857821338408e-08\n",
      "step 7 expected 0.7000000000000001 solution 0.699999988079071 diff 1.1920929021691506e-08\n",
      "step 8 expected 0.8 solution 0.800000011920929 diff 1.1920928910669204e-08\n",
      "step 9 expected 0.9 solution 0.9000000357627869 diff 3.5762786843029915e-08\n",
      "step 10 expected 1.0 solution 1.0 diff 0.0\n",
      "step 11 expected 1.1 solution 1.100000023841858 diff 2.3841857821338408e-08\n",
      "step 12 expected 1.2000000000000002 solution 1.2000000476837158 diff 4.7683715642676816e-08\n",
      "step 13 expected 1.3 solution 1.3000000715255737 diff 7.152557368605983e-08\n",
      "step 14 expected 1.4000000000000001 solution 1.399999976158142 diff 2.3841858043383013e-08\n",
      "step 15 expected 1.5 solution 1.5 diff 0.0\n",
      "step 16 expected 1.6 solution 1.600000023841858 diff 2.3841857821338408e-08\n",
      "step 17 expected 1.7000000000000002 solution 1.7000000476837158 diff 4.7683715642676816e-08\n",
      "step 18 expected 1.8 solution 1.8000000715255737 diff 7.152557368605983e-08\n",
      "step 19 expected 1.9000000000000001 solution 1.899999976158142 diff 2.3841858043383013e-08\n",
      "step 20 expected 2.0 solution 2.0 diff 0.0\n",
      "step 36000 expected 3600.0 solution 3600.0 diff 0.0\n",
      "step 72000 expected 7200.0 solution 7200.0 diff 0.0\n",
      "step 108000 expected 10800.0 solution 10800.0 diff 0.0\n",
      "step 144000 expected 14400.0 solution 14400.0 diff 0.0\n",
      "step 180000 expected 18000.0 solution 18000.0 diff 0.0\n",
      "step 216000 expected 21600.0 solution 21600.0 diff 0.0\n",
      "step 252000 expected 25200.0 solution 25200.0 diff 0.0\n",
      "step 288000 expected 28800.0 solution 28800.0 diff 0.0\n",
      "step 324000 expected 32400.0 solution 32400.0 diff 0.0\n",
      "step 360000 expected 36000.0 solution 36000.0 diff 0.0\n",
      "step 396000 expected 39600.0 solution 39600.0 diff 0.0\n",
      "step 432000 expected 43200.0 solution 43200.0 diff 0.0\n",
      "step 468000 expected 46800.0 solution 46800.0 diff 0.0\n",
      "step 504000 expected 50400.0 solution 50400.0 diff 0.0\n",
      "step 540000 expected 54000.0 solution 54000.0 diff 0.0\n",
      "step 576000 expected 57600.0 solution 57600.0 diff 0.0\n",
      "step 612000 expected 61200.0 solution 61200.0 diff 0.0\n",
      "step 648000 expected 64800.0 solution 64800.0 diff 0.0\n",
      "step 684000 expected 68400.0 solution 68400.0 diff 0.0\n",
      "step 720000 expected 72000.0 solution 72000.0 diff 0.0\n",
      "step 756000 expected 75600.0 solution 75600.0 diff 0.0\n",
      "step 792000 expected 79200.0 solution 79200.0 diff 0.0\n",
      "step 828000 expected 82800.0 solution 82800.0 diff 0.0\n",
      "step 864000 expected 86400.0 solution 86400.0 diff 0.0\n",
      "step 900000 expected 90000.0 solution 90000.0 diff 0.0\n",
      "step 936000 expected 93600.0 solution 93600.0 diff 0.0\n",
      "step 972000 expected 97200.0 solution 97200.0 diff 0.0\n"
     ]
    }
   ],
   "source": [
    "import numpy as np\n",
    "\n",
    "def kahan_summ():\n",
    "    tenth = np.float32(0.1)\n",
    "    count = np.float32(60*60*100*10)\n",
    "    print(f\"{count} {count*0.1}\")\n",
    "    sum = np.float32(0)\n",
    "    n = np.int64(0)\n",
    "    c = np.float32(0)\n",
    "    while n < 1000000:\n",
    "        y = tenth - c\n",
    "        x = sum + y\n",
    "        c = (x - sum) - y\n",
    "        sum = x\n",
    "        n += 1\n",
    "        if n < 21 or n%36000 == 0:\n",
    "            print(f\"step {n} expected {0.1*n} solution {sum} diff {np.abs(0.1*n - sum)}\")\n",
    "\n",
    "kahan_summ()"
   ]
  },
  {
   "cell_type": "markdown",
   "id": "685ac9f3",
   "metadata": {},
   "source": [
    "### Plot Example"
   ]
  },
  {
   "cell_type": "code",
   "execution_count": 30,
   "id": "69610084",
   "metadata": {},
   "outputs": [
    {
     "name": "stdout",
     "output_type": "stream",
     "text": [
      "0.0\n",
      "0.087249755859375\n",
      "0.12872314453125\n",
      "0.216552734375\n",
      "0.304443359375\n",
      "0.392333984375\n",
      "0.343994140625\n",
      "0.007568359375\n",
      "0.359130859375\n",
      "0.710693359375\n",
      "1.062255859375\n",
      "1.413818359375\n",
      "1.76513671875\n",
      "2.11669921875\n",
      "2.46826171875\n",
      "2.81982421875\n",
      "3.17138671875\n",
      "3.52294921875\n",
      "3.87451171875\n",
      "4.22607421875\n",
      "4.57763671875\n",
      "4.92919921875\n",
      "5.28076171875\n",
      "5.17578125\n",
      "3.76953125\n",
      "2.36328125\n",
      "0.95703125\n",
      "0.44921875\n"
     ]
    }
   ],
   "source": [
    "import numpy as np\n",
    "\n",
    "def plot_summ(k):\n",
    "    s = np.float32(0)\n",
    "    for i in range(k - 1):\n",
    "        s += np.float32(0.1)\n",
    "    return abs(k/10 - s)\n",
    "\n",
    "for i in range(100000):\n",
    "    if i%3600 == 0:\n",
    "        print(plot_summ(i))"
   ]
  },
  {
   "cell_type": "markdown",
   "id": "3d648cb6",
   "metadata": {},
   "source": [
    "### Solar System"
   ]
  },
  {
   "cell_type": "code",
   "execution_count": 31,
   "id": "66e05e7f",
   "metadata": {},
   "outputs": [],
   "source": [
    "# solarsystem.py\n",
    "\n",
    "import itertools\n",
    "import math\n",
    "import turtle\n",
    "import numpy as np\n",
    "\n",
    "\n",
    "# Solar System Bodies\n",
    "class SolarSystemBody(turtle.Turtle):\n",
    "    min_display_size = 20\n",
    "    display_log_base = 1.1\n",
    "\n",
    "    def __init__(\n",
    "            self,\n",
    "            solar_system,\n",
    "            mass,\n",
    "            position=(0, 0),\n",
    "            velocity=(0, 0),\n",
    "    ):\n",
    "        super().__init__()\n",
    "        self.mass = mass\n",
    "        self.setposition(position)\n",
    "        self.velocity = velocity\n",
    "        self.display_size = max(\n",
    "            math.log(self.mass, self.display_log_base),\n",
    "            self.min_display_size,\n",
    "        )\n",
    "\n",
    "        self.penup()\n",
    "        self.hideturtle()\n",
    "\n",
    "        solar_system.add_body(self)\n",
    "\n",
    "    def draw(self):\n",
    "        self.clear()\n",
    "        self.dot(self.display_size)\n",
    "\n",
    "    def move(self):\n",
    "        self.setx(self.xcor() + self.velocity[0])\n",
    "        self.sety(self.ycor() + self.velocity[1])\n",
    "\n",
    "\n",
    "class Sun(SolarSystemBody):\n",
    "    def __init__(\n",
    "            self,\n",
    "            solar_system,\n",
    "            mass,\n",
    "            position=(0, 0),\n",
    "            velocity=(0, 0),\n",
    "    ):\n",
    "        super().__init__(solar_system, mass, position, velocity)\n",
    "        self.color(\"yellow\")\n",
    "\n",
    "\n",
    "\n",
    "class Planet(SolarSystemBody):\n",
    "    colours = itertools.cycle([\"red\", \"green\", \"blue\"])\n",
    "\n",
    "    def __init__(\n",
    "            self,\n",
    "            solar_system,\n",
    "            mass,\n",
    "            position=(0, 0),\n",
    "            velocity=(0, 0),\n",
    "    ):\n",
    "        super().__init__(solar_system, mass, position, velocity)\n",
    "        self.color(next(Planet.colours))\n",
    "\n",
    "\n",
    "# Solar System\n",
    "class SolarSystem:\n",
    "    def __init__(self, width, height):\n",
    "        self.solar_system = turtle.Screen()\n",
    "        self.solar_system.tracer(0)\n",
    "        self.solar_system.setup(width, height)\n",
    "        self.solar_system.bgcolor(\"black\")\n",
    "\n",
    "        self.bodies = []\n",
    "\n",
    "    def add_body(self, body):\n",
    "        self.bodies.append(body)\n",
    "\n",
    "    def remove_body(self, body):\n",
    "        self.bodies.remove(body)\n",
    "\n",
    "    def update_all(self):\n",
    "        for body in self.bodies:\n",
    "            body.move()\n",
    "            body.draw()\n",
    "        self.solar_system.update()\n",
    "        \n",
    "    @staticmethod\n",
    "    def accelerate_due_to_gravity(\n",
    "            first: SolarSystemBody,\n",
    "            second: SolarSystemBody,\n",
    "    ):\n",
    "        force = first.mass * second.mass / first.distance(second) ** 2\n",
    "        angle = first.towards(second)\n",
    "        reverse = 1\n",
    "        for body in first, second:\n",
    "            acceleration = force / body.mass\n",
    "            acc_x = acceleration * math.cos(math.radians(angle))\n",
    "            acc_y = acceleration * math.sin(math.radians(angle))\n",
    "            body.velocity = (\n",
    "                body.velocity[0] + (reverse * acc_x),\n",
    "                body.velocity[1] + (reverse * acc_y),\n",
    "            )\n",
    "            reverse = -1\n"
   ]
  },
  {
   "cell_type": "code",
   "execution_count": 32,
   "id": "aee63898",
   "metadata": {},
   "outputs": [
    {
     "ename": "TclError",
     "evalue": "invalid command name \".!canvas\"",
     "output_type": "error",
     "traceback": [
      "\u001b[0;31m---------------------------------------------------------------------------\u001b[0m",
      "\u001b[0;31mTclError\u001b[0m                                  Traceback (most recent call last)",
      "Cell \u001b[0;32mIn[32], line 17\u001b[0m\n\u001b[1;32m     15\u001b[0m \u001b[38;5;28;01mwhile\u001b[39;00m \u001b[38;5;28;01mTrue\u001b[39;00m:\n\u001b[1;32m     16\u001b[0m     solar_system\u001b[38;5;241m.\u001b[39maccelerate_due_to_gravity(sun, planet)\n\u001b[0;32m---> 17\u001b[0m     \u001b[43msolar_system\u001b[49m\u001b[38;5;241;43m.\u001b[39;49m\u001b[43mupdate_all\u001b[49m\u001b[43m(\u001b[49m\u001b[43m)\u001b[49m\n",
      "Cell \u001b[0;32mIn[31], line 89\u001b[0m, in \u001b[0;36mSolarSystem.update_all\u001b[0;34m(self)\u001b[0m\n\u001b[1;32m     87\u001b[0m \u001b[38;5;28;01mdef\u001b[39;00m \u001b[38;5;21mupdate_all\u001b[39m(\u001b[38;5;28mself\u001b[39m):\n\u001b[1;32m     88\u001b[0m     \u001b[38;5;28;01mfor\u001b[39;00m body \u001b[38;5;129;01min\u001b[39;00m \u001b[38;5;28mself\u001b[39m\u001b[38;5;241m.\u001b[39mbodies:\n\u001b[0;32m---> 89\u001b[0m         \u001b[43mbody\u001b[49m\u001b[38;5;241;43m.\u001b[39;49m\u001b[43mmove\u001b[49m\u001b[43m(\u001b[49m\u001b[43m)\u001b[49m\n\u001b[1;32m     90\u001b[0m         body\u001b[38;5;241m.\u001b[39mdraw()\n\u001b[1;32m     91\u001b[0m     \u001b[38;5;28mself\u001b[39m\u001b[38;5;241m.\u001b[39msolar_system\u001b[38;5;241m.\u001b[39mupdate()\n",
      "Cell \u001b[0;32mIn[31], line 40\u001b[0m, in \u001b[0;36mSolarSystemBody.move\u001b[0;34m(self)\u001b[0m\n\u001b[1;32m     39\u001b[0m \u001b[38;5;28;01mdef\u001b[39;00m \u001b[38;5;21mmove\u001b[39m(\u001b[38;5;28mself\u001b[39m):\n\u001b[0;32m---> 40\u001b[0m     \u001b[38;5;28;43mself\u001b[39;49m\u001b[38;5;241;43m.\u001b[39;49m\u001b[43msetx\u001b[49m\u001b[43m(\u001b[49m\u001b[38;5;28;43mself\u001b[39;49m\u001b[38;5;241;43m.\u001b[39;49m\u001b[43mxcor\u001b[49m\u001b[43m(\u001b[49m\u001b[43m)\u001b[49m\u001b[43m \u001b[49m\u001b[38;5;241;43m+\u001b[39;49m\u001b[43m \u001b[49m\u001b[38;5;28;43mself\u001b[39;49m\u001b[38;5;241;43m.\u001b[39;49m\u001b[43mvelocity\u001b[49m\u001b[43m[\u001b[49m\u001b[38;5;241;43m0\u001b[39;49m\u001b[43m]\u001b[49m\u001b[43m)\u001b[49m\n\u001b[1;32m     41\u001b[0m     \u001b[38;5;28mself\u001b[39m\u001b[38;5;241m.\u001b[39msety(\u001b[38;5;28mself\u001b[39m\u001b[38;5;241m.\u001b[39mycor() \u001b[38;5;241m+\u001b[39m \u001b[38;5;28mself\u001b[39m\u001b[38;5;241m.\u001b[39mvelocity[\u001b[38;5;241m1\u001b[39m])\n",
      "File \u001b[0;32m~/opt/anaconda3/envs/cppyy-py11/lib/python3.11/turtle.py:1810\u001b[0m, in \u001b[0;36mTNavigator.setx\u001b[0;34m(self, x)\u001b[0m\n\u001b[1;32m   1794\u001b[0m \u001b[38;5;28;01mdef\u001b[39;00m \u001b[38;5;21msetx\u001b[39m(\u001b[38;5;28mself\u001b[39m, x):\n\u001b[1;32m   1795\u001b[0m \u001b[38;5;250m    \u001b[39m\u001b[38;5;124;03m\"\"\"Set the turtle's first coordinate to x\u001b[39;00m\n\u001b[1;32m   1796\u001b[0m \n\u001b[1;32m   1797\u001b[0m \u001b[38;5;124;03m    Argument:\u001b[39;00m\n\u001b[0;32m   (...)\u001b[0m\n\u001b[1;32m   1808\u001b[0m \u001b[38;5;124;03m    (10.00, 240.00)\u001b[39;00m\n\u001b[1;32m   1809\u001b[0m \u001b[38;5;124;03m    \"\"\"\u001b[39;00m\n\u001b[0;32m-> 1810\u001b[0m     \u001b[38;5;28;43mself\u001b[39;49m\u001b[38;5;241;43m.\u001b[39;49m\u001b[43m_goto\u001b[49m\u001b[43m(\u001b[49m\u001b[43mVec2D\u001b[49m\u001b[43m(\u001b[49m\u001b[43mx\u001b[49m\u001b[43m,\u001b[49m\u001b[43m \u001b[49m\u001b[38;5;28;43mself\u001b[39;49m\u001b[38;5;241;43m.\u001b[39;49m\u001b[43m_position\u001b[49m\u001b[43m[\u001b[49m\u001b[38;5;241;43m1\u001b[39;49m\u001b[43m]\u001b[49m\u001b[43m)\u001b[49m\u001b[43m)\u001b[49m\n",
      "File \u001b[0;32m~/opt/anaconda3/envs/cppyy-py11/lib/python3.11/turtle.py:3176\u001b[0m, in \u001b[0;36mRawTurtle._goto\u001b[0;34m(self, end)\u001b[0m\n\u001b[1;32m   3168\u001b[0m go_modes \u001b[38;5;241m=\u001b[39m ( \u001b[38;5;28mself\u001b[39m\u001b[38;5;241m.\u001b[39m_drawing,\n\u001b[1;32m   3169\u001b[0m              \u001b[38;5;28mself\u001b[39m\u001b[38;5;241m.\u001b[39m_pencolor,\n\u001b[1;32m   3170\u001b[0m              \u001b[38;5;28mself\u001b[39m\u001b[38;5;241m.\u001b[39m_pensize,\n\u001b[1;32m   3171\u001b[0m              \u001b[38;5;28misinstance\u001b[39m(\u001b[38;5;28mself\u001b[39m\u001b[38;5;241m.\u001b[39m_fillpath, \u001b[38;5;28mlist\u001b[39m))\n\u001b[1;32m   3172\u001b[0m screen \u001b[38;5;241m=\u001b[39m \u001b[38;5;28mself\u001b[39m\u001b[38;5;241m.\u001b[39mscreen\n\u001b[1;32m   3173\u001b[0m undo_entry \u001b[38;5;241m=\u001b[39m (\u001b[38;5;124m\"\u001b[39m\u001b[38;5;124mgo\u001b[39m\u001b[38;5;124m\"\u001b[39m, \u001b[38;5;28mself\u001b[39m\u001b[38;5;241m.\u001b[39m_position, end, go_modes,\n\u001b[1;32m   3174\u001b[0m               (\u001b[38;5;28mself\u001b[39m\u001b[38;5;241m.\u001b[39mcurrentLineItem,\n\u001b[1;32m   3175\u001b[0m               \u001b[38;5;28mself\u001b[39m\u001b[38;5;241m.\u001b[39mcurrentLine[:],\n\u001b[0;32m-> 3176\u001b[0m               \u001b[43mscreen\u001b[49m\u001b[38;5;241;43m.\u001b[39;49m\u001b[43m_pointlist\u001b[49m\u001b[43m(\u001b[49m\u001b[38;5;28;43mself\u001b[39;49m\u001b[38;5;241;43m.\u001b[39;49m\u001b[43mcurrentLineItem\u001b[49m\u001b[43m)\u001b[49m,\n\u001b[1;32m   3177\u001b[0m               \u001b[38;5;28mself\u001b[39m\u001b[38;5;241m.\u001b[39mitems[:])\n\u001b[1;32m   3178\u001b[0m               )\n\u001b[1;32m   3179\u001b[0m \u001b[38;5;28;01mif\u001b[39;00m \u001b[38;5;28mself\u001b[39m\u001b[38;5;241m.\u001b[39mundobuffer:\n\u001b[1;32m   3180\u001b[0m     \u001b[38;5;28mself\u001b[39m\u001b[38;5;241m.\u001b[39mundobuffer\u001b[38;5;241m.\u001b[39mpush(undo_entry)\n",
      "File \u001b[0;32m~/opt/anaconda3/envs/cppyy-py11/lib/python3.11/turtle.py:755\u001b[0m, in \u001b[0;36mTurtleScreenBase._pointlist\u001b[0;34m(self, item)\u001b[0m\n\u001b[1;32m    747\u001b[0m \u001b[38;5;28;01mdef\u001b[39;00m \u001b[38;5;21m_pointlist\u001b[39m(\u001b[38;5;28mself\u001b[39m, item):\n\u001b[1;32m    748\u001b[0m \u001b[38;5;250m    \u001b[39m\u001b[38;5;124;03m\"\"\"returns list of coordinate-pairs of points of item\u001b[39;00m\n\u001b[1;32m    749\u001b[0m \u001b[38;5;124;03m    Example (for insiders):\u001b[39;00m\n\u001b[1;32m    750\u001b[0m \u001b[38;5;124;03m    >>> from turtle import *\u001b[39;00m\n\u001b[0;32m   (...)\u001b[0m\n\u001b[1;32m    753\u001b[0m \u001b[38;5;124;03m    (9.9999999999999982, 0.0)]\u001b[39;00m\n\u001b[1;32m    754\u001b[0m \u001b[38;5;124;03m    >>> \"\"\"\u001b[39;00m\n\u001b[0;32m--> 755\u001b[0m     cl \u001b[38;5;241m=\u001b[39m \u001b[38;5;28;43mself\u001b[39;49m\u001b[38;5;241;43m.\u001b[39;49m\u001b[43mcv\u001b[49m\u001b[38;5;241;43m.\u001b[39;49m\u001b[43mcoords\u001b[49m\u001b[43m(\u001b[49m\u001b[43mitem\u001b[49m\u001b[43m)\u001b[49m\n\u001b[1;32m    756\u001b[0m     pl \u001b[38;5;241m=\u001b[39m [(cl[i], \u001b[38;5;241m-\u001b[39mcl[i\u001b[38;5;241m+\u001b[39m\u001b[38;5;241m1\u001b[39m]) \u001b[38;5;28;01mfor\u001b[39;00m i \u001b[38;5;129;01min\u001b[39;00m \u001b[38;5;28mrange\u001b[39m(\u001b[38;5;241m0\u001b[39m, \u001b[38;5;28mlen\u001b[39m(cl), \u001b[38;5;241m2\u001b[39m)]\n\u001b[1;32m    757\u001b[0m     \u001b[38;5;28;01mreturn\u001b[39;00m  pl\n",
      "File \u001b[0;32m<string>:1\u001b[0m, in \u001b[0;36mcoords\u001b[0;34m(self, *args, **kw)\u001b[0m\n",
      "File \u001b[0;32m~/opt/anaconda3/envs/cppyy-py11/lib/python3.11/tkinter/__init__.py:2822\u001b[0m, in \u001b[0;36mCanvas.coords\u001b[0;34m(self, *args)\u001b[0m\n\u001b[1;32m   2818\u001b[0m \u001b[38;5;250m\u001b[39m\u001b[38;5;124;03m\"\"\"Return a list of coordinates for the item given in ARGS.\"\"\"\u001b[39;00m\n\u001b[1;32m   2819\u001b[0m \u001b[38;5;66;03m# XXX Should use _flatten on args\u001b[39;00m\n\u001b[1;32m   2820\u001b[0m \u001b[38;5;28;01mreturn\u001b[39;00m [\u001b[38;5;28mself\u001b[39m\u001b[38;5;241m.\u001b[39mtk\u001b[38;5;241m.\u001b[39mgetdouble(x) \u001b[38;5;28;01mfor\u001b[39;00m x \u001b[38;5;129;01min\u001b[39;00m\n\u001b[1;32m   2821\u001b[0m                    \u001b[38;5;28mself\u001b[39m\u001b[38;5;241m.\u001b[39mtk\u001b[38;5;241m.\u001b[39msplitlist(\n\u001b[0;32m-> 2822\u001b[0m            \u001b[38;5;28;43mself\u001b[39;49m\u001b[38;5;241;43m.\u001b[39;49m\u001b[43mtk\u001b[49m\u001b[38;5;241;43m.\u001b[39;49m\u001b[43mcall\u001b[49m\u001b[43m(\u001b[49m\u001b[43m(\u001b[49m\u001b[38;5;28;43mself\u001b[39;49m\u001b[38;5;241;43m.\u001b[39;49m\u001b[43m_w\u001b[49m\u001b[43m,\u001b[49m\u001b[43m \u001b[49m\u001b[38;5;124;43m'\u001b[39;49m\u001b[38;5;124;43mcoords\u001b[39;49m\u001b[38;5;124;43m'\u001b[39;49m\u001b[43m)\u001b[49m\u001b[43m \u001b[49m\u001b[38;5;241;43m+\u001b[39;49m\u001b[43m \u001b[49m\u001b[43margs\u001b[49m\u001b[43m)\u001b[49m)]\n",
      "\u001b[0;31mTclError\u001b[0m: invalid command name \".!canvas\""
     ]
    }
   ],
   "source": [
    "# simple_solar_system.py\n",
    "\n",
    "#from solarsystem import SolarSystem, Sun, Planet\n",
    "\n",
    "solar_system = SolarSystem(width=1400, height=900)\n",
    "\n",
    "sun = Sun(solar_system, mass=10_000)\n",
    "planet = Planet(\n",
    "    solar_system,\n",
    "    mass=1,\n",
    "    position=(-350, 0),\n",
    "    velocity=(0, 5),\n",
    ")\n",
    "\n",
    "while True:\n",
    "    solar_system.accelerate_due_to_gravity(sun, planet)\n",
    "    solar_system.update_all()\n",
    "    "
   ]
  },
  {
   "cell_type": "code",
   "execution_count": null,
   "id": "c63b9939",
   "metadata": {},
   "outputs": [],
   "source": []
  }
 ],
 "metadata": {
  "kernelspec": {
   "display_name": "Python 3 (ipykernel)",
   "language": "python",
   "name": "python3"
  },
  "language_info": {
   "codemirror_mode": {
    "name": "ipython",
    "version": 3
   },
   "file_extension": ".py",
   "mimetype": "text/x-python",
   "name": "python",
   "nbconvert_exporter": "python",
   "pygments_lexer": "ipython3",
   "version": "3.11.0"
  }
 },
 "nbformat": 4,
 "nbformat_minor": 5
}
